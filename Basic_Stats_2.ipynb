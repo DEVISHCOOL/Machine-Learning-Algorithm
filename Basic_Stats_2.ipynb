{
  "nbformat": 4,
  "nbformat_minor": 0,
  "metadata": {
    "colab": {
      "provenance": []
    },
    "kernelspec": {
      "name": "python3",
      "display_name": "Python 3"
    },
    "language_info": {
      "name": "python"
    }
  },
  "cells": [
    {
      "cell_type": "code",
      "execution_count": null,
      "metadata": {
        "colab": {
          "base_uri": "https://localhost:8080/"
        },
        "id": "kwRtfTTbt-lw",
        "outputId": "31e2125b-03d5-4b5a-dd89-c0325f860e5b"
      },
      "outputs": [
        {
          "output_type": "stream",
          "name": "stdout",
          "text": [
            "Sample mean: 1.239\n",
            "Sample standard deviation: 0.1932\n",
            "99% CI using sample std (t-distribution): (1.0901973384384906, 1.3871359948948425)\n",
            "99% CI using known population std (z-distribution): (1.1056514133957607, 1.3716819199375725)\n"
          ]
        }
      ],
      "source": [
        "import numpy as np\n",
        "from scipy import stats\n",
        "# Data: Durability in millions of characters\n",
        "data = [1.13, 1.55, 1.43, 0.92, 1.25, 1.36, 1.32, 0.85, 1.07, 1.48, 1.20, 1.33, 1.18, 1.22, 1.29]\n",
        "n = len(data)\n",
        "mean = np.mean(data)\n",
        "sample_std = np.std(data, ddof=1)  # Sample standard deviation\n",
        "\n",
        "# Part (a): 99% Confidence Interval using t-distribution (sample standard deviation)\n",
        "confidence=0.99\n",
        "alpha=1 - confidence\n",
        "df=n-1\n",
        "t_critical=stats.t.ppf(1 - alpha / 2, df)\n",
        "t_score=t_critical*(sample_std / np.sqrt(n))\n",
        "ci_t=(mean-t_score,mean + t_score)\n",
        "\n",
        "# Part (b): 99% Confidence Interval using z-distribution (known population standard deviation)\n",
        "pop_std = 0.2  # known population standard deviation\n",
        "z_critical = stats.norm.ppf(1 - alpha / 2)\n",
        "z_score = z_critical * (pop_std / np.sqrt(n))\n",
        "ci_z = (mean - z_score, mean + z_score)\n",
        "\n",
        "# Output\n",
        "print(\"Sample mean:\",round(mean,3))\n",
        "print(\"Sample standard deviation:\",round(sample_std,4))\n",
        "print(\"99% CI using sample std (t-distribution):\", tuple(map(float, ci_t)))\n",
        "print(\"99% CI using known population std (z-distribution):\", tuple(map(float, ci_z)))\n"
      ]
    },
    {
      "cell_type": "code",
      "source": [
        "#infer\n",
        "#Using the durability data from these 15 samples, two 99% confidence intervals were constructed:\n",
        "#Using the sample standard deviation (unknown population standard deviation):\n",
        "#→ Estimated average durability lies between 1.090 and 1.387 million characters\n",
        "\n",
        "#Using the known population standard deviation (σ = 0.2):\n",
        "#→ Estimated average durability lies between 1.106 and 1.372 million characters"
      ],
      "metadata": {
        "id": "gF1vpL8DulQf"
      },
      "execution_count": null,
      "outputs": []
    }
  ]
}