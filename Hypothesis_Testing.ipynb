{
  "nbformat": 4,
  "nbformat_minor": 0,
  "metadata": {
    "colab": {
      "provenance": []
    },
    "kernelspec": {
      "name": "python3",
      "display_name": "Python 3"
    },
    "language_info": {
      "name": "python"
    }
  },
  "cells": [
    {
      "cell_type": "code",
      "execution_count": null,
      "metadata": {
        "id": "BvibJ_fIu7pc"
      },
      "outputs": [],
      "source": [
        "#!. Hypothessis Statement:\n",
        "#we are testing the actual weekly operating cost is higher than what the theoretical cost model predicts\n"
      ]
    },
    {
      "cell_type": "code",
      "source": [
        "#Null Hypothesis(H0):the actual weekly cost are not higher than the model suggests\n",
        "#Alternative Hypothesis(H1):the actual weekly cost are higher than the model suggests\n"
      ],
      "metadata": {
        "id": "Zs_Cin7zu-yE"
      },
      "execution_count": null,
      "outputs": []
    },
    {
      "cell_type": "code",
      "source": [
        "#2.Clacluate the Test Statistics:\n",
        "import numpy as np\n",
        "from scipy import stats\n",
        "sample_mean=3050\n",
        "Theotrical_mean=1000+5*600  #W=1000+5X where X=600\n",
        "sample_std=5*25  #std for weekly cost\n",
        "n=25 #sample size\n",
        "#Calculate Population std deviation\n",
        "pop_std=sample_std/np.sqrt(n)\n",
        "pop_std"
      ],
      "metadata": {
        "colab": {
          "base_uri": "https://localhost:8080/"
        },
        "id": "xXwxE9ZQvAK6",
        "outputId": "99648eaa-f860-4d28-feea-847bb56a1673"
      },
      "execution_count": null,
      "outputs": [
        {
          "output_type": "execute_result",
          "data": {
            "text/plain": [
              "np.float64(25.0)"
            ]
          },
          "metadata": {},
          "execution_count": 4
        }
      ]
    },
    {
      "cell_type": "code",
      "source": [
        "#Calculate Test Statistics(Z)\n",
        "z_stats=(sample_mean-Theotrical_mean)/pop_std\n",
        "z_stats"
      ],
      "metadata": {
        "colab": {
          "base_uri": "https://localhost:8080/"
        },
        "id": "qn5JHA_tvDd2",
        "outputId": "b3ad2a4e-6aa6-4656-ba8c-7f3abace7f7f"
      },
      "execution_count": null,
      "outputs": [
        {
          "output_type": "execute_result",
          "data": {
            "text/plain": [
              "np.float64(-38.0)"
            ]
          },
          "metadata": {},
          "execution_count": 5
        }
      ]
    },
    {
      "cell_type": "code",
      "source": [
        "#3. Determine the Critical Value:\n",
        "alpha=0.05\n"
      ],
      "metadata": {
        "id": "6aDjovw0vE89"
      },
      "execution_count": null,
      "outputs": []
    },
    {
      "cell_type": "code",
      "source": [
        "#Critical value\n",
        "z_critical=stats.norm.ppf(1-alpha)\n",
        "z_critical"
      ],
      "metadata": {
        "colab": {
          "base_uri": "https://localhost:8080/"
        },
        "id": "CGRy2bWXvHXT",
        "outputId": "72f649e5-dbb0-4a63-d483-879e36c15b0a"
      },
      "execution_count": null,
      "outputs": [
        {
          "output_type": "execute_result",
          "data": {
            "text/plain": [
              "np.float64(1.6448536269514722)"
            ]
          },
          "metadata": {},
          "execution_count": 7
        }
      ]
    },
    {
      "cell_type": "code",
      "source": [
        "#4.Make a Decision\n",
        "if z_stats>z_critical:\n",
        "    print('Reject Null hypothesis:the Actual weekly cost are higher than the model suggests')\n",
        "else:\n",
        "    print('Fail to reject the null Hypothesis:the actual weekly cost are not higher than the model suggests')"
      ],
      "metadata": {
        "colab": {
          "base_uri": "https://localhost:8080/"
        },
        "id": "BbtNG8QuvI7y",
        "outputId": "d01d184f-8feb-4c79-a5cc-97b32201fba3"
      },
      "execution_count": null,
      "outputs": [
        {
          "output_type": "stream",
          "name": "stdout",
          "text": [
            "Fail to reject the null Hypothesis:the actual weekly cost are not higher than the model suggests\n"
          ]
        }
      ]
    },
    {
      "cell_type": "code",
      "source": [
        "#5.Conclusion\n",
        "# Based on step$ z_stats=-38.0 & z_critical=+1.645 at alpha=0.05\n",
        "#since -38.0<1.645,we fail to reject Null Hypothesis"
      ],
      "metadata": {
        "id": "R-LSxFIuvKx7"
      },
      "execution_count": null,
      "outputs": []
    },
    {
      "cell_type": "code",
      "source": [
        "#There is no strong evidence to support the restaruant owners claim that the weekly operating cost are higher than the model suggests\n",
        "#This contradicts the claim and suggests either a misunderstanding or error in the reported data or assumptions.\n"
      ],
      "metadata": {
        "id": "mcEaoFcxvMvt"
      },
      "execution_count": null,
      "outputs": []
    }
  ]
}