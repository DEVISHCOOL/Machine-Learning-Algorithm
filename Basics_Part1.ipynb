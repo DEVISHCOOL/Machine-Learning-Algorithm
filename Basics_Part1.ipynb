{
  "nbformat": 4,
  "nbformat_minor": 0,
  "metadata": {
    "colab": {
      "provenance": []
    },
    "kernelspec": {
      "name": "python3",
      "display_name": "Python 3"
    },
    "language_info": {
      "name": "python"
    }
  },
  "cells": [
    {
      "cell_type": "code",
      "execution_count": 72,
      "metadata": {
        "id": "lJjlS_IwEQk1"
      },
      "outputs": [],
      "source": [
        "import pandas as pd\n",
        "df=pd.read_csv(\"sales_data_with_discounts.csv\")"
      ]
    },
    {
      "cell_type": "code",
      "source": [
        "df\n"
      ],
      "metadata": {
        "colab": {
          "base_uri": "https://localhost:8080/",
          "height": 614
        },
        "id": "dp7PAe2MGDb6",
        "outputId": "2ebc1784-9f9d-42f1-fb3b-75c1605a7433"
      },
      "execution_count": 73,
      "outputs": [
        {
          "output_type": "execute_result",
          "data": {
            "text/plain": [
              "           Date       Day  SKU City  Volume         BU  Brand       Model  \\\n",
              "0    01-04-2021  Thursday  M01    C      15    Mobiles  RealU       RU-10   \n",
              "1    01-04-2021  Thursday  M02    C      10    Mobiles  RealU   RU-9 Plus   \n",
              "2    01-04-2021  Thursday  M03    C       7    Mobiles   YouM       YM-99   \n",
              "3    01-04-2021  Thursday  M04    C       6    Mobiles   YouM  YM-99 Plus   \n",
              "4    01-04-2021  Thursday  M05    C       3    Mobiles   YouM      YM-98    \n",
              "..          ...       ...  ...  ...     ...        ...    ...         ...   \n",
              "445  15-04-2021  Thursday  L06    C       2  Lifestyle  Jeera   M-Casuals   \n",
              "446  15-04-2021  Thursday  L07    C       6  Lifestyle   Viva   W-Western   \n",
              "447  15-04-2021  Thursday  L08    C       2  Lifestyle   Viva    W-Lounge   \n",
              "448  15-04-2021  Thursday  L09    C       3  Lifestyle  Jeera   M-Formals   \n",
              "449  15-04-2021  Thursday  L10    C       1  Lifestyle  Jeera     M-Shoes   \n",
              "\n",
              "     Avg Price  Total Sales Value  Discount Rate (%)  Discount Amount  \\\n",
              "0        12100             181500          11.654820     21153.498820   \n",
              "1        10100             101000          11.560498     11676.102961   \n",
              "2        16100             112700           9.456886     10657.910157   \n",
              "3        20100             120600           6.935385      8364.074702   \n",
              "4         8100              24300          17.995663      4372.946230   \n",
              "..         ...                ...                ...              ...   \n",
              "445       1300               2600          15.475687       402.367873   \n",
              "446       2600              15600          17.057027      2660.896242   \n",
              "447       1600               3200          18.965550       606.897606   \n",
              "448       1900               5700          16.793014       957.201826   \n",
              "449       3100               3100          15.333300       475.332295   \n",
              "\n",
              "     Net Sales Value  \n",
              "0      160346.501180  \n",
              "1       89323.897039  \n",
              "2      102042.089843  \n",
              "3      112235.925298  \n",
              "4       19927.053770  \n",
              "..               ...  \n",
              "445      2197.632127  \n",
              "446     12939.103758  \n",
              "447      2593.102394  \n",
              "448      4742.798174  \n",
              "449      2624.667705  \n",
              "\n",
              "[450 rows x 13 columns]"
            ],
            "text/html": [
              "\n",
              "  <div id=\"df-f2865b56-c770-4617-bb56-eb7459e8ef64\" class=\"colab-df-container\">\n",
              "    <div>\n",
              "<style scoped>\n",
              "    .dataframe tbody tr th:only-of-type {\n",
              "        vertical-align: middle;\n",
              "    }\n",
              "\n",
              "    .dataframe tbody tr th {\n",
              "        vertical-align: top;\n",
              "    }\n",
              "\n",
              "    .dataframe thead th {\n",
              "        text-align: right;\n",
              "    }\n",
              "</style>\n",
              "<table border=\"1\" class=\"dataframe\">\n",
              "  <thead>\n",
              "    <tr style=\"text-align: right;\">\n",
              "      <th></th>\n",
              "      <th>Date</th>\n",
              "      <th>Day</th>\n",
              "      <th>SKU</th>\n",
              "      <th>City</th>\n",
              "      <th>Volume</th>\n",
              "      <th>BU</th>\n",
              "      <th>Brand</th>\n",
              "      <th>Model</th>\n",
              "      <th>Avg Price</th>\n",
              "      <th>Total Sales Value</th>\n",
              "      <th>Discount Rate (%)</th>\n",
              "      <th>Discount Amount</th>\n",
              "      <th>Net Sales Value</th>\n",
              "    </tr>\n",
              "  </thead>\n",
              "  <tbody>\n",
              "    <tr>\n",
              "      <th>0</th>\n",
              "      <td>01-04-2021</td>\n",
              "      <td>Thursday</td>\n",
              "      <td>M01</td>\n",
              "      <td>C</td>\n",
              "      <td>15</td>\n",
              "      <td>Mobiles</td>\n",
              "      <td>RealU</td>\n",
              "      <td>RU-10</td>\n",
              "      <td>12100</td>\n",
              "      <td>181500</td>\n",
              "      <td>11.654820</td>\n",
              "      <td>21153.498820</td>\n",
              "      <td>160346.501180</td>\n",
              "    </tr>\n",
              "    <tr>\n",
              "      <th>1</th>\n",
              "      <td>01-04-2021</td>\n",
              "      <td>Thursday</td>\n",
              "      <td>M02</td>\n",
              "      <td>C</td>\n",
              "      <td>10</td>\n",
              "      <td>Mobiles</td>\n",
              "      <td>RealU</td>\n",
              "      <td>RU-9 Plus</td>\n",
              "      <td>10100</td>\n",
              "      <td>101000</td>\n",
              "      <td>11.560498</td>\n",
              "      <td>11676.102961</td>\n",
              "      <td>89323.897039</td>\n",
              "    </tr>\n",
              "    <tr>\n",
              "      <th>2</th>\n",
              "      <td>01-04-2021</td>\n",
              "      <td>Thursday</td>\n",
              "      <td>M03</td>\n",
              "      <td>C</td>\n",
              "      <td>7</td>\n",
              "      <td>Mobiles</td>\n",
              "      <td>YouM</td>\n",
              "      <td>YM-99</td>\n",
              "      <td>16100</td>\n",
              "      <td>112700</td>\n",
              "      <td>9.456886</td>\n",
              "      <td>10657.910157</td>\n",
              "      <td>102042.089843</td>\n",
              "    </tr>\n",
              "    <tr>\n",
              "      <th>3</th>\n",
              "      <td>01-04-2021</td>\n",
              "      <td>Thursday</td>\n",
              "      <td>M04</td>\n",
              "      <td>C</td>\n",
              "      <td>6</td>\n",
              "      <td>Mobiles</td>\n",
              "      <td>YouM</td>\n",
              "      <td>YM-99 Plus</td>\n",
              "      <td>20100</td>\n",
              "      <td>120600</td>\n",
              "      <td>6.935385</td>\n",
              "      <td>8364.074702</td>\n",
              "      <td>112235.925298</td>\n",
              "    </tr>\n",
              "    <tr>\n",
              "      <th>4</th>\n",
              "      <td>01-04-2021</td>\n",
              "      <td>Thursday</td>\n",
              "      <td>M05</td>\n",
              "      <td>C</td>\n",
              "      <td>3</td>\n",
              "      <td>Mobiles</td>\n",
              "      <td>YouM</td>\n",
              "      <td>YM-98</td>\n",
              "      <td>8100</td>\n",
              "      <td>24300</td>\n",
              "      <td>17.995663</td>\n",
              "      <td>4372.946230</td>\n",
              "      <td>19927.053770</td>\n",
              "    </tr>\n",
              "    <tr>\n",
              "      <th>...</th>\n",
              "      <td>...</td>\n",
              "      <td>...</td>\n",
              "      <td>...</td>\n",
              "      <td>...</td>\n",
              "      <td>...</td>\n",
              "      <td>...</td>\n",
              "      <td>...</td>\n",
              "      <td>...</td>\n",
              "      <td>...</td>\n",
              "      <td>...</td>\n",
              "      <td>...</td>\n",
              "      <td>...</td>\n",
              "      <td>...</td>\n",
              "    </tr>\n",
              "    <tr>\n",
              "      <th>445</th>\n",
              "      <td>15-04-2021</td>\n",
              "      <td>Thursday</td>\n",
              "      <td>L06</td>\n",
              "      <td>C</td>\n",
              "      <td>2</td>\n",
              "      <td>Lifestyle</td>\n",
              "      <td>Jeera</td>\n",
              "      <td>M-Casuals</td>\n",
              "      <td>1300</td>\n",
              "      <td>2600</td>\n",
              "      <td>15.475687</td>\n",
              "      <td>402.367873</td>\n",
              "      <td>2197.632127</td>\n",
              "    </tr>\n",
              "    <tr>\n",
              "      <th>446</th>\n",
              "      <td>15-04-2021</td>\n",
              "      <td>Thursday</td>\n",
              "      <td>L07</td>\n",
              "      <td>C</td>\n",
              "      <td>6</td>\n",
              "      <td>Lifestyle</td>\n",
              "      <td>Viva</td>\n",
              "      <td>W-Western</td>\n",
              "      <td>2600</td>\n",
              "      <td>15600</td>\n",
              "      <td>17.057027</td>\n",
              "      <td>2660.896242</td>\n",
              "      <td>12939.103758</td>\n",
              "    </tr>\n",
              "    <tr>\n",
              "      <th>447</th>\n",
              "      <td>15-04-2021</td>\n",
              "      <td>Thursday</td>\n",
              "      <td>L08</td>\n",
              "      <td>C</td>\n",
              "      <td>2</td>\n",
              "      <td>Lifestyle</td>\n",
              "      <td>Viva</td>\n",
              "      <td>W-Lounge</td>\n",
              "      <td>1600</td>\n",
              "      <td>3200</td>\n",
              "      <td>18.965550</td>\n",
              "      <td>606.897606</td>\n",
              "      <td>2593.102394</td>\n",
              "    </tr>\n",
              "    <tr>\n",
              "      <th>448</th>\n",
              "      <td>15-04-2021</td>\n",
              "      <td>Thursday</td>\n",
              "      <td>L09</td>\n",
              "      <td>C</td>\n",
              "      <td>3</td>\n",
              "      <td>Lifestyle</td>\n",
              "      <td>Jeera</td>\n",
              "      <td>M-Formals</td>\n",
              "      <td>1900</td>\n",
              "      <td>5700</td>\n",
              "      <td>16.793014</td>\n",
              "      <td>957.201826</td>\n",
              "      <td>4742.798174</td>\n",
              "    </tr>\n",
              "    <tr>\n",
              "      <th>449</th>\n",
              "      <td>15-04-2021</td>\n",
              "      <td>Thursday</td>\n",
              "      <td>L10</td>\n",
              "      <td>C</td>\n",
              "      <td>1</td>\n",
              "      <td>Lifestyle</td>\n",
              "      <td>Jeera</td>\n",
              "      <td>M-Shoes</td>\n",
              "      <td>3100</td>\n",
              "      <td>3100</td>\n",
              "      <td>15.333300</td>\n",
              "      <td>475.332295</td>\n",
              "      <td>2624.667705</td>\n",
              "    </tr>\n",
              "  </tbody>\n",
              "</table>\n",
              "<p>450 rows × 13 columns</p>\n",
              "</div>\n",
              "    <div class=\"colab-df-buttons\">\n",
              "\n",
              "  <div class=\"colab-df-container\">\n",
              "    <button class=\"colab-df-convert\" onclick=\"convertToInteractive('df-f2865b56-c770-4617-bb56-eb7459e8ef64')\"\n",
              "            title=\"Convert this dataframe to an interactive table.\"\n",
              "            style=\"display:none;\">\n",
              "\n",
              "  <svg xmlns=\"http://www.w3.org/2000/svg\" height=\"24px\" viewBox=\"0 -960 960 960\">\n",
              "    <path d=\"M120-120v-720h720v720H120Zm60-500h600v-160H180v160Zm220 220h160v-160H400v160Zm0 220h160v-160H400v160ZM180-400h160v-160H180v160Zm440 0h160v-160H620v160ZM180-180h160v-160H180v160Zm440 0h160v-160H620v160Z\"/>\n",
              "  </svg>\n",
              "    </button>\n",
              "\n",
              "  <style>\n",
              "    .colab-df-container {\n",
              "      display:flex;\n",
              "      gap: 12px;\n",
              "    }\n",
              "\n",
              "    .colab-df-convert {\n",
              "      background-color: #E8F0FE;\n",
              "      border: none;\n",
              "      border-radius: 50%;\n",
              "      cursor: pointer;\n",
              "      display: none;\n",
              "      fill: #1967D2;\n",
              "      height: 32px;\n",
              "      padding: 0 0 0 0;\n",
              "      width: 32px;\n",
              "    }\n",
              "\n",
              "    .colab-df-convert:hover {\n",
              "      background-color: #E2EBFA;\n",
              "      box-shadow: 0px 1px 2px rgba(60, 64, 67, 0.3), 0px 1px 3px 1px rgba(60, 64, 67, 0.15);\n",
              "      fill: #174EA6;\n",
              "    }\n",
              "\n",
              "    .colab-df-buttons div {\n",
              "      margin-bottom: 4px;\n",
              "    }\n",
              "\n",
              "    [theme=dark] .colab-df-convert {\n",
              "      background-color: #3B4455;\n",
              "      fill: #D2E3FC;\n",
              "    }\n",
              "\n",
              "    [theme=dark] .colab-df-convert:hover {\n",
              "      background-color: #434B5C;\n",
              "      box-shadow: 0px 1px 3px 1px rgba(0, 0, 0, 0.15);\n",
              "      filter: drop-shadow(0px 1px 2px rgba(0, 0, 0, 0.3));\n",
              "      fill: #FFFFFF;\n",
              "    }\n",
              "  </style>\n",
              "\n",
              "    <script>\n",
              "      const buttonEl =\n",
              "        document.querySelector('#df-f2865b56-c770-4617-bb56-eb7459e8ef64 button.colab-df-convert');\n",
              "      buttonEl.style.display =\n",
              "        google.colab.kernel.accessAllowed ? 'block' : 'none';\n",
              "\n",
              "      async function convertToInteractive(key) {\n",
              "        const element = document.querySelector('#df-f2865b56-c770-4617-bb56-eb7459e8ef64');\n",
              "        const dataTable =\n",
              "          await google.colab.kernel.invokeFunction('convertToInteractive',\n",
              "                                                    [key], {});\n",
              "        if (!dataTable) return;\n",
              "\n",
              "        const docLinkHtml = 'Like what you see? Visit the ' +\n",
              "          '<a target=\"_blank\" href=https://colab.research.google.com/notebooks/data_table.ipynb>data table notebook</a>'\n",
              "          + ' to learn more about interactive tables.';\n",
              "        element.innerHTML = '';\n",
              "        dataTable['output_type'] = 'display_data';\n",
              "        await google.colab.output.renderOutput(dataTable, element);\n",
              "        const docLink = document.createElement('div');\n",
              "        docLink.innerHTML = docLinkHtml;\n",
              "        element.appendChild(docLink);\n",
              "      }\n",
              "    </script>\n",
              "  </div>\n",
              "\n",
              "\n",
              "    <div id=\"df-f2d89f88-257c-4671-a883-f98bb87a6f13\">\n",
              "      <button class=\"colab-df-quickchart\" onclick=\"quickchart('df-f2d89f88-257c-4671-a883-f98bb87a6f13')\"\n",
              "                title=\"Suggest charts\"\n",
              "                style=\"display:none;\">\n",
              "\n",
              "<svg xmlns=\"http://www.w3.org/2000/svg\" height=\"24px\"viewBox=\"0 0 24 24\"\n",
              "     width=\"24px\">\n",
              "    <g>\n",
              "        <path d=\"M19 3H5c-1.1 0-2 .9-2 2v14c0 1.1.9 2 2 2h14c1.1 0 2-.9 2-2V5c0-1.1-.9-2-2-2zM9 17H7v-7h2v7zm4 0h-2V7h2v10zm4 0h-2v-4h2v4z\"/>\n",
              "    </g>\n",
              "</svg>\n",
              "      </button>\n",
              "\n",
              "<style>\n",
              "  .colab-df-quickchart {\n",
              "      --bg-color: #E8F0FE;\n",
              "      --fill-color: #1967D2;\n",
              "      --hover-bg-color: #E2EBFA;\n",
              "      --hover-fill-color: #174EA6;\n",
              "      --disabled-fill-color: #AAA;\n",
              "      --disabled-bg-color: #DDD;\n",
              "  }\n",
              "\n",
              "  [theme=dark] .colab-df-quickchart {\n",
              "      --bg-color: #3B4455;\n",
              "      --fill-color: #D2E3FC;\n",
              "      --hover-bg-color: #434B5C;\n",
              "      --hover-fill-color: #FFFFFF;\n",
              "      --disabled-bg-color: #3B4455;\n",
              "      --disabled-fill-color: #666;\n",
              "  }\n",
              "\n",
              "  .colab-df-quickchart {\n",
              "    background-color: var(--bg-color);\n",
              "    border: none;\n",
              "    border-radius: 50%;\n",
              "    cursor: pointer;\n",
              "    display: none;\n",
              "    fill: var(--fill-color);\n",
              "    height: 32px;\n",
              "    padding: 0;\n",
              "    width: 32px;\n",
              "  }\n",
              "\n",
              "  .colab-df-quickchart:hover {\n",
              "    background-color: var(--hover-bg-color);\n",
              "    box-shadow: 0 1px 2px rgba(60, 64, 67, 0.3), 0 1px 3px 1px rgba(60, 64, 67, 0.15);\n",
              "    fill: var(--button-hover-fill-color);\n",
              "  }\n",
              "\n",
              "  .colab-df-quickchart-complete:disabled,\n",
              "  .colab-df-quickchart-complete:disabled:hover {\n",
              "    background-color: var(--disabled-bg-color);\n",
              "    fill: var(--disabled-fill-color);\n",
              "    box-shadow: none;\n",
              "  }\n",
              "\n",
              "  .colab-df-spinner {\n",
              "    border: 2px solid var(--fill-color);\n",
              "    border-color: transparent;\n",
              "    border-bottom-color: var(--fill-color);\n",
              "    animation:\n",
              "      spin 1s steps(1) infinite;\n",
              "  }\n",
              "\n",
              "  @keyframes spin {\n",
              "    0% {\n",
              "      border-color: transparent;\n",
              "      border-bottom-color: var(--fill-color);\n",
              "      border-left-color: var(--fill-color);\n",
              "    }\n",
              "    20% {\n",
              "      border-color: transparent;\n",
              "      border-left-color: var(--fill-color);\n",
              "      border-top-color: var(--fill-color);\n",
              "    }\n",
              "    30% {\n",
              "      border-color: transparent;\n",
              "      border-left-color: var(--fill-color);\n",
              "      border-top-color: var(--fill-color);\n",
              "      border-right-color: var(--fill-color);\n",
              "    }\n",
              "    40% {\n",
              "      border-color: transparent;\n",
              "      border-right-color: var(--fill-color);\n",
              "      border-top-color: var(--fill-color);\n",
              "    }\n",
              "    60% {\n",
              "      border-color: transparent;\n",
              "      border-right-color: var(--fill-color);\n",
              "    }\n",
              "    80% {\n",
              "      border-color: transparent;\n",
              "      border-right-color: var(--fill-color);\n",
              "      border-bottom-color: var(--fill-color);\n",
              "    }\n",
              "    90% {\n",
              "      border-color: transparent;\n",
              "      border-bottom-color: var(--fill-color);\n",
              "    }\n",
              "  }\n",
              "</style>\n",
              "\n",
              "      <script>\n",
              "        async function quickchart(key) {\n",
              "          const quickchartButtonEl =\n",
              "            document.querySelector('#' + key + ' button');\n",
              "          quickchartButtonEl.disabled = true;  // To prevent multiple clicks.\n",
              "          quickchartButtonEl.classList.add('colab-df-spinner');\n",
              "          try {\n",
              "            const charts = await google.colab.kernel.invokeFunction(\n",
              "                'suggestCharts', [key], {});\n",
              "          } catch (error) {\n",
              "            console.error('Error during call to suggestCharts:', error);\n",
              "          }\n",
              "          quickchartButtonEl.classList.remove('colab-df-spinner');\n",
              "          quickchartButtonEl.classList.add('colab-df-quickchart-complete');\n",
              "        }\n",
              "        (() => {\n",
              "          let quickchartButtonEl =\n",
              "            document.querySelector('#df-f2d89f88-257c-4671-a883-f98bb87a6f13 button');\n",
              "          quickchartButtonEl.style.display =\n",
              "            google.colab.kernel.accessAllowed ? 'block' : 'none';\n",
              "        })();\n",
              "      </script>\n",
              "    </div>\n",
              "\n",
              "  <div id=\"id_8ea11df8-943f-46a4-a52d-e8cffa1a6d61\">\n",
              "    <style>\n",
              "      .colab-df-generate {\n",
              "        background-color: #E8F0FE;\n",
              "        border: none;\n",
              "        border-radius: 50%;\n",
              "        cursor: pointer;\n",
              "        display: none;\n",
              "        fill: #1967D2;\n",
              "        height: 32px;\n",
              "        padding: 0 0 0 0;\n",
              "        width: 32px;\n",
              "      }\n",
              "\n",
              "      .colab-df-generate:hover {\n",
              "        background-color: #E2EBFA;\n",
              "        box-shadow: 0px 1px 2px rgba(60, 64, 67, 0.3), 0px 1px 3px 1px rgba(60, 64, 67, 0.15);\n",
              "        fill: #174EA6;\n",
              "      }\n",
              "\n",
              "      [theme=dark] .colab-df-generate {\n",
              "        background-color: #3B4455;\n",
              "        fill: #D2E3FC;\n",
              "      }\n",
              "\n",
              "      [theme=dark] .colab-df-generate:hover {\n",
              "        background-color: #434B5C;\n",
              "        box-shadow: 0px 1px 3px 1px rgba(0, 0, 0, 0.15);\n",
              "        filter: drop-shadow(0px 1px 2px rgba(0, 0, 0, 0.3));\n",
              "        fill: #FFFFFF;\n",
              "      }\n",
              "    </style>\n",
              "    <button class=\"colab-df-generate\" onclick=\"generateWithVariable('df')\"\n",
              "            title=\"Generate code using this dataframe.\"\n",
              "            style=\"display:none;\">\n",
              "\n",
              "  <svg xmlns=\"http://www.w3.org/2000/svg\" height=\"24px\"viewBox=\"0 0 24 24\"\n",
              "       width=\"24px\">\n",
              "    <path d=\"M7,19H8.4L18.45,9,17,7.55,7,17.6ZM5,21V16.75L18.45,3.32a2,2,0,0,1,2.83,0l1.4,1.43a1.91,1.91,0,0,1,.58,1.4,1.91,1.91,0,0,1-.58,1.4L9.25,21ZM18.45,9,17,7.55Zm-12,3A5.31,5.31,0,0,0,4.9,8.1,5.31,5.31,0,0,0,1,6.5,5.31,5.31,0,0,0,4.9,4.9,5.31,5.31,0,0,0,6.5,1,5.31,5.31,0,0,0,8.1,4.9,5.31,5.31,0,0,0,12,6.5,5.46,5.46,0,0,0,6.5,12Z\"/>\n",
              "  </svg>\n",
              "    </button>\n",
              "    <script>\n",
              "      (() => {\n",
              "      const buttonEl =\n",
              "        document.querySelector('#id_8ea11df8-943f-46a4-a52d-e8cffa1a6d61 button.colab-df-generate');\n",
              "      buttonEl.style.display =\n",
              "        google.colab.kernel.accessAllowed ? 'block' : 'none';\n",
              "\n",
              "      buttonEl.onclick = () => {\n",
              "        google.colab.notebook.generateWithVariable('df');\n",
              "      }\n",
              "      })();\n",
              "    </script>\n",
              "  </div>\n",
              "\n",
              "    </div>\n",
              "  </div>\n"
            ],
            "application/vnd.google.colaboratory.intrinsic+json": {
              "type": "dataframe",
              "variable_name": "df",
              "summary": "{\n  \"name\": \"df\",\n  \"rows\": 450,\n  \"fields\": [\n    {\n      \"column\": \"Date\",\n      \"properties\": {\n        \"dtype\": \"category\",\n        \"num_unique_values\": 15,\n        \"samples\": [\n          \"10-04-2021\",\n          \"12-04-2021\",\n          \"01-04-2021\"\n        ],\n        \"semantic_type\": \"\",\n        \"description\": \"\"\n      }\n    },\n    {\n      \"column\": \"Day\",\n      \"properties\": {\n        \"dtype\": \"category\",\n        \"num_unique_values\": 7,\n        \"samples\": [\n          \"Thursday\",\n          \"Friday\",\n          \"Tuesday\"\n        ],\n        \"semantic_type\": \"\",\n        \"description\": \"\"\n      }\n    },\n    {\n      \"column\": \"SKU\",\n      \"properties\": {\n        \"dtype\": \"category\",\n        \"num_unique_values\": 30,\n        \"samples\": [\n          \"L08\",\n          \"F06\",\n          \"L04\"\n        ],\n        \"semantic_type\": \"\",\n        \"description\": \"\"\n      }\n    },\n    {\n      \"column\": \"City\",\n      \"properties\": {\n        \"dtype\": \"category\",\n        \"num_unique_values\": 1,\n        \"samples\": [\n          \"C\"\n        ],\n        \"semantic_type\": \"\",\n        \"description\": \"\"\n      }\n    },\n    {\n      \"column\": \"Volume\",\n      \"properties\": {\n        \"dtype\": \"number\",\n        \"std\": 4,\n        \"min\": 1,\n        \"max\": 31,\n        \"num_unique_values\": 22,\n        \"samples\": [\n          15\n        ],\n        \"semantic_type\": \"\",\n        \"description\": \"\"\n      }\n    },\n    {\n      \"column\": \"BU\",\n      \"properties\": {\n        \"dtype\": \"category\",\n        \"num_unique_values\": 3,\n        \"samples\": [\n          \"Mobiles\"\n        ],\n        \"semantic_type\": \"\",\n        \"description\": \"\"\n      }\n    },\n    {\n      \"column\": \"Brand\",\n      \"properties\": {\n        \"dtype\": \"category\",\n        \"num_unique_values\": 9,\n        \"samples\": [\n          \"Jeera\"\n        ],\n        \"semantic_type\": \"\",\n        \"description\": \"\"\n      }\n    },\n    {\n      \"column\": \"Model\",\n      \"properties\": {\n        \"dtype\": \"category\",\n        \"num_unique_values\": 30,\n        \"samples\": [\n          \"W-Lounge\"\n        ],\n        \"semantic_type\": \"\",\n        \"description\": \"\"\n      }\n    },\n    {\n      \"column\": \"Avg Price\",\n      \"properties\": {\n        \"dtype\": \"number\",\n        \"std\": 18079,\n        \"min\": 290,\n        \"max\": 60100,\n        \"num_unique_values\": 25,\n        \"samples\": [\n          60100\n        ],\n        \"semantic_type\": \"\",\n        \"description\": \"\"\n      }\n    },\n    {\n      \"column\": \"Total Sales Value\",\n      \"properties\": {\n        \"dtype\": \"number\",\n        \"std\": 50535,\n        \"min\": 400,\n        \"max\": 196400,\n        \"num_unique_values\": 135,\n        \"samples\": [\n          3000\n        ],\n        \"semantic_type\": \"\",\n        \"description\": \"\"\n      }\n    },\n    {\n      \"column\": \"Discount Rate (%)\",\n      \"properties\": {\n        \"dtype\": \"number\",\n        \"std\": 4.220602153325511,\n        \"min\": 5.007822189204133,\n        \"max\": 19.99240704193018,\n        \"num_unique_values\": 450,\n        \"samples\": [\n          18.99129131753696\n        ],\n        \"semantic_type\": \"\",\n        \"description\": \"\"\n      }\n    },\n    {\n      \"column\": \"Discount Amount\",\n      \"properties\": {\n        \"dtype\": \"number\",\n        \"std\": 4509.9029633539985,\n        \"min\": 69.17794228822787,\n        \"max\": 25738.02219375868,\n        \"num_unique_values\": 450,\n        \"samples\": [\n          151.9303305402957\n        ],\n        \"semantic_type\": \"\",\n        \"description\": \"\"\n      }\n    },\n    {\n      \"column\": \"Net Sales Value\",\n      \"properties\": {\n        \"dtype\": \"number\",\n        \"std\": 46358.656624066934,\n        \"min\": 326.97480055470817,\n        \"max\": 179507.47904902254,\n        \"num_unique_values\": 450,\n        \"samples\": [\n          648.0696694597043\n        ],\n        \"semantic_type\": \"\",\n        \"description\": \"\"\n      }\n    }\n  ]\n}"
            }
          },
          "metadata": {},
          "execution_count": 73
        }
      ]
    },
    {
      "cell_type": "code",
      "source": [
        "df.shape"
      ],
      "metadata": {
        "colab": {
          "base_uri": "https://localhost:8080/"
        },
        "id": "TSq4BEG0GHqZ",
        "outputId": "f37a80e1-d62c-4fdb-8142-a206d7edbe49"
      },
      "execution_count": 74,
      "outputs": [
        {
          "output_type": "execute_result",
          "data": {
            "text/plain": [
              "(450, 13)"
            ]
          },
          "metadata": {},
          "execution_count": 74
        }
      ]
    },
    {
      "cell_type": "code",
      "source": [
        "df.columns"
      ],
      "metadata": {
        "colab": {
          "base_uri": "https://localhost:8080/"
        },
        "id": "tvQebOkCGKkK",
        "outputId": "53529c1e-0112-4462-9d1d-21bb8e798e17"
      },
      "execution_count": 75,
      "outputs": [
        {
          "output_type": "execute_result",
          "data": {
            "text/plain": [
              "Index(['Date', 'Day', 'SKU', 'City', 'Volume', 'BU', 'Brand', 'Model',\n",
              "       'Avg Price', 'Total Sales Value', 'Discount Rate (%)',\n",
              "       'Discount Amount', 'Net Sales Value'],\n",
              "      dtype='object')"
            ]
          },
          "metadata": {},
          "execution_count": 75
        }
      ]
    },
    {
      "cell_type": "code",
      "source": [
        "df.describe()"
      ],
      "metadata": {
        "colab": {
          "base_uri": "https://localhost:8080/",
          "height": 300
        },
        "id": "lyq7T0pjGLen",
        "outputId": "6f6b3fee-156d-4168-fceb-4d39daaa66df"
      },
      "execution_count": 76,
      "outputs": [
        {
          "output_type": "execute_result",
          "data": {
            "text/plain": [
              "           Volume     Avg Price  Total Sales Value  Discount Rate (%)  \\\n",
              "count  450.000000    450.000000         450.000000         450.000000   \n",
              "mean     5.066667  10453.433333       33812.835556          15.155242   \n",
              "std      4.231602  18079.904840       50535.074173           4.220602   \n",
              "min      1.000000    290.000000         400.000000           5.007822   \n",
              "25%      3.000000    465.000000        2700.000000          13.965063   \n",
              "50%      4.000000   1450.000000        5700.000000          16.577766   \n",
              "75%      6.000000  10100.000000       53200.000000          18.114718   \n",
              "max     31.000000  60100.000000      196400.000000          19.992407   \n",
              "\n",
              "       Discount Amount  Net Sales Value  \n",
              "count       450.000000       450.000000  \n",
              "mean       3346.499424     30466.336131  \n",
              "std        4509.902963     46358.656624  \n",
              "min          69.177942       326.974801  \n",
              "25%         460.459304      2202.208645  \n",
              "50%         988.933733      4677.788059  \n",
              "75%        5316.495427     47847.912852  \n",
              "max       25738.022194    179507.479049  "
            ],
            "text/html": [
              "\n",
              "  <div id=\"df-eec9d5b8-56c9-42de-90ee-6ac5a8e197a6\" class=\"colab-df-container\">\n",
              "    <div>\n",
              "<style scoped>\n",
              "    .dataframe tbody tr th:only-of-type {\n",
              "        vertical-align: middle;\n",
              "    }\n",
              "\n",
              "    .dataframe tbody tr th {\n",
              "        vertical-align: top;\n",
              "    }\n",
              "\n",
              "    .dataframe thead th {\n",
              "        text-align: right;\n",
              "    }\n",
              "</style>\n",
              "<table border=\"1\" class=\"dataframe\">\n",
              "  <thead>\n",
              "    <tr style=\"text-align: right;\">\n",
              "      <th></th>\n",
              "      <th>Volume</th>\n",
              "      <th>Avg Price</th>\n",
              "      <th>Total Sales Value</th>\n",
              "      <th>Discount Rate (%)</th>\n",
              "      <th>Discount Amount</th>\n",
              "      <th>Net Sales Value</th>\n",
              "    </tr>\n",
              "  </thead>\n",
              "  <tbody>\n",
              "    <tr>\n",
              "      <th>count</th>\n",
              "      <td>450.000000</td>\n",
              "      <td>450.000000</td>\n",
              "      <td>450.000000</td>\n",
              "      <td>450.000000</td>\n",
              "      <td>450.000000</td>\n",
              "      <td>450.000000</td>\n",
              "    </tr>\n",
              "    <tr>\n",
              "      <th>mean</th>\n",
              "      <td>5.066667</td>\n",
              "      <td>10453.433333</td>\n",
              "      <td>33812.835556</td>\n",
              "      <td>15.155242</td>\n",
              "      <td>3346.499424</td>\n",
              "      <td>30466.336131</td>\n",
              "    </tr>\n",
              "    <tr>\n",
              "      <th>std</th>\n",
              "      <td>4.231602</td>\n",
              "      <td>18079.904840</td>\n",
              "      <td>50535.074173</td>\n",
              "      <td>4.220602</td>\n",
              "      <td>4509.902963</td>\n",
              "      <td>46358.656624</td>\n",
              "    </tr>\n",
              "    <tr>\n",
              "      <th>min</th>\n",
              "      <td>1.000000</td>\n",
              "      <td>290.000000</td>\n",
              "      <td>400.000000</td>\n",
              "      <td>5.007822</td>\n",
              "      <td>69.177942</td>\n",
              "      <td>326.974801</td>\n",
              "    </tr>\n",
              "    <tr>\n",
              "      <th>25%</th>\n",
              "      <td>3.000000</td>\n",
              "      <td>465.000000</td>\n",
              "      <td>2700.000000</td>\n",
              "      <td>13.965063</td>\n",
              "      <td>460.459304</td>\n",
              "      <td>2202.208645</td>\n",
              "    </tr>\n",
              "    <tr>\n",
              "      <th>50%</th>\n",
              "      <td>4.000000</td>\n",
              "      <td>1450.000000</td>\n",
              "      <td>5700.000000</td>\n",
              "      <td>16.577766</td>\n",
              "      <td>988.933733</td>\n",
              "      <td>4677.788059</td>\n",
              "    </tr>\n",
              "    <tr>\n",
              "      <th>75%</th>\n",
              "      <td>6.000000</td>\n",
              "      <td>10100.000000</td>\n",
              "      <td>53200.000000</td>\n",
              "      <td>18.114718</td>\n",
              "      <td>5316.495427</td>\n",
              "      <td>47847.912852</td>\n",
              "    </tr>\n",
              "    <tr>\n",
              "      <th>max</th>\n",
              "      <td>31.000000</td>\n",
              "      <td>60100.000000</td>\n",
              "      <td>196400.000000</td>\n",
              "      <td>19.992407</td>\n",
              "      <td>25738.022194</td>\n",
              "      <td>179507.479049</td>\n",
              "    </tr>\n",
              "  </tbody>\n",
              "</table>\n",
              "</div>\n",
              "    <div class=\"colab-df-buttons\">\n",
              "\n",
              "  <div class=\"colab-df-container\">\n",
              "    <button class=\"colab-df-convert\" onclick=\"convertToInteractive('df-eec9d5b8-56c9-42de-90ee-6ac5a8e197a6')\"\n",
              "            title=\"Convert this dataframe to an interactive table.\"\n",
              "            style=\"display:none;\">\n",
              "\n",
              "  <svg xmlns=\"http://www.w3.org/2000/svg\" height=\"24px\" viewBox=\"0 -960 960 960\">\n",
              "    <path d=\"M120-120v-720h720v720H120Zm60-500h600v-160H180v160Zm220 220h160v-160H400v160Zm0 220h160v-160H400v160ZM180-400h160v-160H180v160Zm440 0h160v-160H620v160ZM180-180h160v-160H180v160Zm440 0h160v-160H620v160Z\"/>\n",
              "  </svg>\n",
              "    </button>\n",
              "\n",
              "  <style>\n",
              "    .colab-df-container {\n",
              "      display:flex;\n",
              "      gap: 12px;\n",
              "    }\n",
              "\n",
              "    .colab-df-convert {\n",
              "      background-color: #E8F0FE;\n",
              "      border: none;\n",
              "      border-radius: 50%;\n",
              "      cursor: pointer;\n",
              "      display: none;\n",
              "      fill: #1967D2;\n",
              "      height: 32px;\n",
              "      padding: 0 0 0 0;\n",
              "      width: 32px;\n",
              "    }\n",
              "\n",
              "    .colab-df-convert:hover {\n",
              "      background-color: #E2EBFA;\n",
              "      box-shadow: 0px 1px 2px rgba(60, 64, 67, 0.3), 0px 1px 3px 1px rgba(60, 64, 67, 0.15);\n",
              "      fill: #174EA6;\n",
              "    }\n",
              "\n",
              "    .colab-df-buttons div {\n",
              "      margin-bottom: 4px;\n",
              "    }\n",
              "\n",
              "    [theme=dark] .colab-df-convert {\n",
              "      background-color: #3B4455;\n",
              "      fill: #D2E3FC;\n",
              "    }\n",
              "\n",
              "    [theme=dark] .colab-df-convert:hover {\n",
              "      background-color: #434B5C;\n",
              "      box-shadow: 0px 1px 3px 1px rgba(0, 0, 0, 0.15);\n",
              "      filter: drop-shadow(0px 1px 2px rgba(0, 0, 0, 0.3));\n",
              "      fill: #FFFFFF;\n",
              "    }\n",
              "  </style>\n",
              "\n",
              "    <script>\n",
              "      const buttonEl =\n",
              "        document.querySelector('#df-eec9d5b8-56c9-42de-90ee-6ac5a8e197a6 button.colab-df-convert');\n",
              "      buttonEl.style.display =\n",
              "        google.colab.kernel.accessAllowed ? 'block' : 'none';\n",
              "\n",
              "      async function convertToInteractive(key) {\n",
              "        const element = document.querySelector('#df-eec9d5b8-56c9-42de-90ee-6ac5a8e197a6');\n",
              "        const dataTable =\n",
              "          await google.colab.kernel.invokeFunction('convertToInteractive',\n",
              "                                                    [key], {});\n",
              "        if (!dataTable) return;\n",
              "\n",
              "        const docLinkHtml = 'Like what you see? Visit the ' +\n",
              "          '<a target=\"_blank\" href=https://colab.research.google.com/notebooks/data_table.ipynb>data table notebook</a>'\n",
              "          + ' to learn more about interactive tables.';\n",
              "        element.innerHTML = '';\n",
              "        dataTable['output_type'] = 'display_data';\n",
              "        await google.colab.output.renderOutput(dataTable, element);\n",
              "        const docLink = document.createElement('div');\n",
              "        docLink.innerHTML = docLinkHtml;\n",
              "        element.appendChild(docLink);\n",
              "      }\n",
              "    </script>\n",
              "  </div>\n",
              "\n",
              "\n",
              "    <div id=\"df-17272016-e032-41b8-830d-321f37643eda\">\n",
              "      <button class=\"colab-df-quickchart\" onclick=\"quickchart('df-17272016-e032-41b8-830d-321f37643eda')\"\n",
              "                title=\"Suggest charts\"\n",
              "                style=\"display:none;\">\n",
              "\n",
              "<svg xmlns=\"http://www.w3.org/2000/svg\" height=\"24px\"viewBox=\"0 0 24 24\"\n",
              "     width=\"24px\">\n",
              "    <g>\n",
              "        <path d=\"M19 3H5c-1.1 0-2 .9-2 2v14c0 1.1.9 2 2 2h14c1.1 0 2-.9 2-2V5c0-1.1-.9-2-2-2zM9 17H7v-7h2v7zm4 0h-2V7h2v10zm4 0h-2v-4h2v4z\"/>\n",
              "    </g>\n",
              "</svg>\n",
              "      </button>\n",
              "\n",
              "<style>\n",
              "  .colab-df-quickchart {\n",
              "      --bg-color: #E8F0FE;\n",
              "      --fill-color: #1967D2;\n",
              "      --hover-bg-color: #E2EBFA;\n",
              "      --hover-fill-color: #174EA6;\n",
              "      --disabled-fill-color: #AAA;\n",
              "      --disabled-bg-color: #DDD;\n",
              "  }\n",
              "\n",
              "  [theme=dark] .colab-df-quickchart {\n",
              "      --bg-color: #3B4455;\n",
              "      --fill-color: #D2E3FC;\n",
              "      --hover-bg-color: #434B5C;\n",
              "      --hover-fill-color: #FFFFFF;\n",
              "      --disabled-bg-color: #3B4455;\n",
              "      --disabled-fill-color: #666;\n",
              "  }\n",
              "\n",
              "  .colab-df-quickchart {\n",
              "    background-color: var(--bg-color);\n",
              "    border: none;\n",
              "    border-radius: 50%;\n",
              "    cursor: pointer;\n",
              "    display: none;\n",
              "    fill: var(--fill-color);\n",
              "    height: 32px;\n",
              "    padding: 0;\n",
              "    width: 32px;\n",
              "  }\n",
              "\n",
              "  .colab-df-quickchart:hover {\n",
              "    background-color: var(--hover-bg-color);\n",
              "    box-shadow: 0 1px 2px rgba(60, 64, 67, 0.3), 0 1px 3px 1px rgba(60, 64, 67, 0.15);\n",
              "    fill: var(--button-hover-fill-color);\n",
              "  }\n",
              "\n",
              "  .colab-df-quickchart-complete:disabled,\n",
              "  .colab-df-quickchart-complete:disabled:hover {\n",
              "    background-color: var(--disabled-bg-color);\n",
              "    fill: var(--disabled-fill-color);\n",
              "    box-shadow: none;\n",
              "  }\n",
              "\n",
              "  .colab-df-spinner {\n",
              "    border: 2px solid var(--fill-color);\n",
              "    border-color: transparent;\n",
              "    border-bottom-color: var(--fill-color);\n",
              "    animation:\n",
              "      spin 1s steps(1) infinite;\n",
              "  }\n",
              "\n",
              "  @keyframes spin {\n",
              "    0% {\n",
              "      border-color: transparent;\n",
              "      border-bottom-color: var(--fill-color);\n",
              "      border-left-color: var(--fill-color);\n",
              "    }\n",
              "    20% {\n",
              "      border-color: transparent;\n",
              "      border-left-color: var(--fill-color);\n",
              "      border-top-color: var(--fill-color);\n",
              "    }\n",
              "    30% {\n",
              "      border-color: transparent;\n",
              "      border-left-color: var(--fill-color);\n",
              "      border-top-color: var(--fill-color);\n",
              "      border-right-color: var(--fill-color);\n",
              "    }\n",
              "    40% {\n",
              "      border-color: transparent;\n",
              "      border-right-color: var(--fill-color);\n",
              "      border-top-color: var(--fill-color);\n",
              "    }\n",
              "    60% {\n",
              "      border-color: transparent;\n",
              "      border-right-color: var(--fill-color);\n",
              "    }\n",
              "    80% {\n",
              "      border-color: transparent;\n",
              "      border-right-color: var(--fill-color);\n",
              "      border-bottom-color: var(--fill-color);\n",
              "    }\n",
              "    90% {\n",
              "      border-color: transparent;\n",
              "      border-bottom-color: var(--fill-color);\n",
              "    }\n",
              "  }\n",
              "</style>\n",
              "\n",
              "      <script>\n",
              "        async function quickchart(key) {\n",
              "          const quickchartButtonEl =\n",
              "            document.querySelector('#' + key + ' button');\n",
              "          quickchartButtonEl.disabled = true;  // To prevent multiple clicks.\n",
              "          quickchartButtonEl.classList.add('colab-df-spinner');\n",
              "          try {\n",
              "            const charts = await google.colab.kernel.invokeFunction(\n",
              "                'suggestCharts', [key], {});\n",
              "          } catch (error) {\n",
              "            console.error('Error during call to suggestCharts:', error);\n",
              "          }\n",
              "          quickchartButtonEl.classList.remove('colab-df-spinner');\n",
              "          quickchartButtonEl.classList.add('colab-df-quickchart-complete');\n",
              "        }\n",
              "        (() => {\n",
              "          let quickchartButtonEl =\n",
              "            document.querySelector('#df-17272016-e032-41b8-830d-321f37643eda button');\n",
              "          quickchartButtonEl.style.display =\n",
              "            google.colab.kernel.accessAllowed ? 'block' : 'none';\n",
              "        })();\n",
              "      </script>\n",
              "    </div>\n",
              "\n",
              "    </div>\n",
              "  </div>\n"
            ],
            "application/vnd.google.colaboratory.intrinsic+json": {
              "type": "dataframe",
              "summary": "{\n  \"name\": \"df\",\n  \"rows\": 8,\n  \"fields\": [\n    {\n      \"column\": \"Volume\",\n      \"properties\": {\n        \"dtype\": \"number\",\n        \"std\": 156.65110667068927,\n        \"min\": 1.0,\n        \"max\": 450.0,\n        \"num_unique_values\": 8,\n        \"samples\": [\n          5.066666666666666,\n          4.0,\n          450.0\n        ],\n        \"semantic_type\": \"\",\n        \"description\": \"\"\n      }\n    },\n    {\n      \"column\": \"Avg Price\",\n      \"properties\": {\n        \"dtype\": \"number\",\n        \"std\": 20240.811540701754,\n        \"min\": 290.0,\n        \"max\": 60100.0,\n        \"num_unique_values\": 8,\n        \"samples\": [\n          10453.433333333332,\n          1450.0,\n          450.0\n        ],\n        \"semantic_type\": \"\",\n        \"description\": \"\"\n      }\n    },\n    {\n      \"column\": \"Total Sales Value\",\n      \"properties\": {\n        \"dtype\": \"number\",\n        \"std\": 65919.15331321131,\n        \"min\": 400.0,\n        \"max\": 196400.0,\n        \"num_unique_values\": 8,\n        \"samples\": [\n          33812.83555555555,\n          5700.0,\n          450.0\n        ],\n        \"semantic_type\": \"\",\n        \"description\": \"\"\n      }\n    },\n    {\n      \"column\": \"Discount Rate (%)\",\n      \"properties\": {\n        \"dtype\": \"number\",\n        \"std\": 154.50823774782953,\n        \"min\": 4.220602153325511,\n        \"max\": 450.0,\n        \"num_unique_values\": 8,\n        \"samples\": [\n          15.155241895330914,\n          16.57776564929597,\n          450.0\n        ],\n        \"semantic_type\": \"\",\n        \"description\": \"\"\n      }\n    },\n    {\n      \"column\": \"Discount Amount\",\n      \"properties\": {\n        \"dtype\": \"number\",\n        \"std\": 8575.337507445174,\n        \"min\": 69.17794228822787,\n        \"max\": 25738.02219375868,\n        \"num_unique_values\": 8,\n        \"samples\": [\n          3346.499424342415,\n          988.9337332382784,\n          450.0\n        ],\n        \"semantic_type\": \"\",\n        \"description\": \"\"\n      }\n    },\n    {\n      \"column\": \"Net Sales Value\",\n      \"properties\": {\n        \"dtype\": \"number\",\n        \"std\": 60310.39264790412,\n        \"min\": 326.97480055470817,\n        \"max\": 179507.47904902254,\n        \"num_unique_values\": 8,\n        \"samples\": [\n          30466.336131270138,\n          4677.788059301853,\n          450.0\n        ],\n        \"semantic_type\": \"\",\n        \"description\": \"\"\n      }\n    }\n  ]\n}"
            }
          },
          "metadata": {},
          "execution_count": 76
        }
      ]
    },
    {
      "cell_type": "code",
      "source": [
        "df.info()"
      ],
      "metadata": {
        "colab": {
          "base_uri": "https://localhost:8080/"
        },
        "id": "bpbH2qBNGNXG",
        "outputId": "2c67c2ae-d587-4c0e-fc7b-e6a0782832e8"
      },
      "execution_count": 77,
      "outputs": [
        {
          "output_type": "stream",
          "name": "stdout",
          "text": [
            "<class 'pandas.core.frame.DataFrame'>\n",
            "RangeIndex: 450 entries, 0 to 449\n",
            "Data columns (total 13 columns):\n",
            " #   Column             Non-Null Count  Dtype  \n",
            "---  ------             --------------  -----  \n",
            " 0   Date               450 non-null    object \n",
            " 1   Day                450 non-null    object \n",
            " 2   SKU                450 non-null    object \n",
            " 3   City               450 non-null    object \n",
            " 4   Volume             450 non-null    int64  \n",
            " 5   BU                 450 non-null    object \n",
            " 6   Brand              450 non-null    object \n",
            " 7   Model              450 non-null    object \n",
            " 8   Avg Price          450 non-null    int64  \n",
            " 9   Total Sales Value  450 non-null    int64  \n",
            " 10  Discount Rate (%)  450 non-null    float64\n",
            " 11  Discount Amount    450 non-null    float64\n",
            " 12  Net Sales Value    450 non-null    float64\n",
            "dtypes: float64(3), int64(3), object(7)\n",
            "memory usage: 45.8+ KB\n"
          ]
        }
      ]
    },
    {
      "cell_type": "code",
      "source": [
        "df.isnull().sum()"
      ],
      "metadata": {
        "colab": {
          "base_uri": "https://localhost:8080/",
          "height": 491
        },
        "id": "ILtP11byGSHw",
        "outputId": "b4b837a4-9b19-4715-9533-03123e35a0d4"
      },
      "execution_count": 78,
      "outputs": [
        {
          "output_type": "execute_result",
          "data": {
            "text/plain": [
              "Date                 0\n",
              "Day                  0\n",
              "SKU                  0\n",
              "City                 0\n",
              "Volume               0\n",
              "BU                   0\n",
              "Brand                0\n",
              "Model                0\n",
              "Avg Price            0\n",
              "Total Sales Value    0\n",
              "Discount Rate (%)    0\n",
              "Discount Amount      0\n",
              "Net Sales Value      0\n",
              "dtype: int64"
            ],
            "text/html": [
              "<div>\n",
              "<style scoped>\n",
              "    .dataframe tbody tr th:only-of-type {\n",
              "        vertical-align: middle;\n",
              "    }\n",
              "\n",
              "    .dataframe tbody tr th {\n",
              "        vertical-align: top;\n",
              "    }\n",
              "\n",
              "    .dataframe thead th {\n",
              "        text-align: right;\n",
              "    }\n",
              "</style>\n",
              "<table border=\"1\" class=\"dataframe\">\n",
              "  <thead>\n",
              "    <tr style=\"text-align: right;\">\n",
              "      <th></th>\n",
              "      <th>0</th>\n",
              "    </tr>\n",
              "  </thead>\n",
              "  <tbody>\n",
              "    <tr>\n",
              "      <th>Date</th>\n",
              "      <td>0</td>\n",
              "    </tr>\n",
              "    <tr>\n",
              "      <th>Day</th>\n",
              "      <td>0</td>\n",
              "    </tr>\n",
              "    <tr>\n",
              "      <th>SKU</th>\n",
              "      <td>0</td>\n",
              "    </tr>\n",
              "    <tr>\n",
              "      <th>City</th>\n",
              "      <td>0</td>\n",
              "    </tr>\n",
              "    <tr>\n",
              "      <th>Volume</th>\n",
              "      <td>0</td>\n",
              "    </tr>\n",
              "    <tr>\n",
              "      <th>BU</th>\n",
              "      <td>0</td>\n",
              "    </tr>\n",
              "    <tr>\n",
              "      <th>Brand</th>\n",
              "      <td>0</td>\n",
              "    </tr>\n",
              "    <tr>\n",
              "      <th>Model</th>\n",
              "      <td>0</td>\n",
              "    </tr>\n",
              "    <tr>\n",
              "      <th>Avg Price</th>\n",
              "      <td>0</td>\n",
              "    </tr>\n",
              "    <tr>\n",
              "      <th>Total Sales Value</th>\n",
              "      <td>0</td>\n",
              "    </tr>\n",
              "    <tr>\n",
              "      <th>Discount Rate (%)</th>\n",
              "      <td>0</td>\n",
              "    </tr>\n",
              "    <tr>\n",
              "      <th>Discount Amount</th>\n",
              "      <td>0</td>\n",
              "    </tr>\n",
              "    <tr>\n",
              "      <th>Net Sales Value</th>\n",
              "      <td>0</td>\n",
              "    </tr>\n",
              "  </tbody>\n",
              "</table>\n",
              "</div><br><label><b>dtype:</b> int64</label>"
            ]
          },
          "metadata": {},
          "execution_count": 78
        }
      ]
    },
    {
      "cell_type": "code",
      "source": [
        "z=df.corr(numeric_only=True)"
      ],
      "metadata": {
        "id": "Tyd1kZ-LGq1r"
      },
      "execution_count": 79,
      "outputs": []
    },
    {
      "cell_type": "code",
      "source": [
        "z"
      ],
      "metadata": {
        "colab": {
          "base_uri": "https://localhost:8080/",
          "height": 237
        },
        "id": "G6fxDPrYG_mE",
        "outputId": "03a421d5-da90-4c2c-f866-cb3c0ce00fd5"
      },
      "execution_count": 80,
      "outputs": [
        {
          "output_type": "execute_result",
          "data": {
            "text/plain": [
              "                     Volume  Avg Price  Total Sales Value  Discount Rate (%)  \\\n",
              "Volume             1.000000  -0.250878          -0.034789           0.157972   \n",
              "Avg Price         -0.250878   1.000000           0.831978          -0.831582   \n",
              "Total Sales Value -0.034789   0.831978           1.000000          -0.835431   \n",
              "Discount Rate (%)  0.157972  -0.831582          -0.835431           1.000000   \n",
              "Discount Amount    0.066297   0.676007           0.932410          -0.657607   \n",
              "Net Sales Value   -0.044373   0.841166           0.999382          -0.846720   \n",
              "\n",
              "                   Discount Amount  Net Sales Value  \n",
              "Volume                    0.066297        -0.044373  \n",
              "Avg Price                 0.676007         0.841166  \n",
              "Total Sales Value         0.932410         0.999382  \n",
              "Discount Rate (%)        -0.657607        -0.846720  \n",
              "Discount Amount           1.000000         0.919127  \n",
              "Net Sales Value           0.919127         1.000000  "
            ],
            "text/html": [
              "\n",
              "  <div id=\"df-de84bc25-399a-4f83-b6a5-0149d9043c79\" class=\"colab-df-container\">\n",
              "    <div>\n",
              "<style scoped>\n",
              "    .dataframe tbody tr th:only-of-type {\n",
              "        vertical-align: middle;\n",
              "    }\n",
              "\n",
              "    .dataframe tbody tr th {\n",
              "        vertical-align: top;\n",
              "    }\n",
              "\n",
              "    .dataframe thead th {\n",
              "        text-align: right;\n",
              "    }\n",
              "</style>\n",
              "<table border=\"1\" class=\"dataframe\">\n",
              "  <thead>\n",
              "    <tr style=\"text-align: right;\">\n",
              "      <th></th>\n",
              "      <th>Volume</th>\n",
              "      <th>Avg Price</th>\n",
              "      <th>Total Sales Value</th>\n",
              "      <th>Discount Rate (%)</th>\n",
              "      <th>Discount Amount</th>\n",
              "      <th>Net Sales Value</th>\n",
              "    </tr>\n",
              "  </thead>\n",
              "  <tbody>\n",
              "    <tr>\n",
              "      <th>Volume</th>\n",
              "      <td>1.000000</td>\n",
              "      <td>-0.250878</td>\n",
              "      <td>-0.034789</td>\n",
              "      <td>0.157972</td>\n",
              "      <td>0.066297</td>\n",
              "      <td>-0.044373</td>\n",
              "    </tr>\n",
              "    <tr>\n",
              "      <th>Avg Price</th>\n",
              "      <td>-0.250878</td>\n",
              "      <td>1.000000</td>\n",
              "      <td>0.831978</td>\n",
              "      <td>-0.831582</td>\n",
              "      <td>0.676007</td>\n",
              "      <td>0.841166</td>\n",
              "    </tr>\n",
              "    <tr>\n",
              "      <th>Total Sales Value</th>\n",
              "      <td>-0.034789</td>\n",
              "      <td>0.831978</td>\n",
              "      <td>1.000000</td>\n",
              "      <td>-0.835431</td>\n",
              "      <td>0.932410</td>\n",
              "      <td>0.999382</td>\n",
              "    </tr>\n",
              "    <tr>\n",
              "      <th>Discount Rate (%)</th>\n",
              "      <td>0.157972</td>\n",
              "      <td>-0.831582</td>\n",
              "      <td>-0.835431</td>\n",
              "      <td>1.000000</td>\n",
              "      <td>-0.657607</td>\n",
              "      <td>-0.846720</td>\n",
              "    </tr>\n",
              "    <tr>\n",
              "      <th>Discount Amount</th>\n",
              "      <td>0.066297</td>\n",
              "      <td>0.676007</td>\n",
              "      <td>0.932410</td>\n",
              "      <td>-0.657607</td>\n",
              "      <td>1.000000</td>\n",
              "      <td>0.919127</td>\n",
              "    </tr>\n",
              "    <tr>\n",
              "      <th>Net Sales Value</th>\n",
              "      <td>-0.044373</td>\n",
              "      <td>0.841166</td>\n",
              "      <td>0.999382</td>\n",
              "      <td>-0.846720</td>\n",
              "      <td>0.919127</td>\n",
              "      <td>1.000000</td>\n",
              "    </tr>\n",
              "  </tbody>\n",
              "</table>\n",
              "</div>\n",
              "    <div class=\"colab-df-buttons\">\n",
              "\n",
              "  <div class=\"colab-df-container\">\n",
              "    <button class=\"colab-df-convert\" onclick=\"convertToInteractive('df-de84bc25-399a-4f83-b6a5-0149d9043c79')\"\n",
              "            title=\"Convert this dataframe to an interactive table.\"\n",
              "            style=\"display:none;\">\n",
              "\n",
              "  <svg xmlns=\"http://www.w3.org/2000/svg\" height=\"24px\" viewBox=\"0 -960 960 960\">\n",
              "    <path d=\"M120-120v-720h720v720H120Zm60-500h600v-160H180v160Zm220 220h160v-160H400v160Zm0 220h160v-160H400v160ZM180-400h160v-160H180v160Zm440 0h160v-160H620v160ZM180-180h160v-160H180v160Zm440 0h160v-160H620v160Z\"/>\n",
              "  </svg>\n",
              "    </button>\n",
              "\n",
              "  <style>\n",
              "    .colab-df-container {\n",
              "      display:flex;\n",
              "      gap: 12px;\n",
              "    }\n",
              "\n",
              "    .colab-df-convert {\n",
              "      background-color: #E8F0FE;\n",
              "      border: none;\n",
              "      border-radius: 50%;\n",
              "      cursor: pointer;\n",
              "      display: none;\n",
              "      fill: #1967D2;\n",
              "      height: 32px;\n",
              "      padding: 0 0 0 0;\n",
              "      width: 32px;\n",
              "    }\n",
              "\n",
              "    .colab-df-convert:hover {\n",
              "      background-color: #E2EBFA;\n",
              "      box-shadow: 0px 1px 2px rgba(60, 64, 67, 0.3), 0px 1px 3px 1px rgba(60, 64, 67, 0.15);\n",
              "      fill: #174EA6;\n",
              "    }\n",
              "\n",
              "    .colab-df-buttons div {\n",
              "      margin-bottom: 4px;\n",
              "    }\n",
              "\n",
              "    [theme=dark] .colab-df-convert {\n",
              "      background-color: #3B4455;\n",
              "      fill: #D2E3FC;\n",
              "    }\n",
              "\n",
              "    [theme=dark] .colab-df-convert:hover {\n",
              "      background-color: #434B5C;\n",
              "      box-shadow: 0px 1px 3px 1px rgba(0, 0, 0, 0.15);\n",
              "      filter: drop-shadow(0px 1px 2px rgba(0, 0, 0, 0.3));\n",
              "      fill: #FFFFFF;\n",
              "    }\n",
              "  </style>\n",
              "\n",
              "    <script>\n",
              "      const buttonEl =\n",
              "        document.querySelector('#df-de84bc25-399a-4f83-b6a5-0149d9043c79 button.colab-df-convert');\n",
              "      buttonEl.style.display =\n",
              "        google.colab.kernel.accessAllowed ? 'block' : 'none';\n",
              "\n",
              "      async function convertToInteractive(key) {\n",
              "        const element = document.querySelector('#df-de84bc25-399a-4f83-b6a5-0149d9043c79');\n",
              "        const dataTable =\n",
              "          await google.colab.kernel.invokeFunction('convertToInteractive',\n",
              "                                                    [key], {});\n",
              "        if (!dataTable) return;\n",
              "\n",
              "        const docLinkHtml = 'Like what you see? Visit the ' +\n",
              "          '<a target=\"_blank\" href=https://colab.research.google.com/notebooks/data_table.ipynb>data table notebook</a>'\n",
              "          + ' to learn more about interactive tables.';\n",
              "        element.innerHTML = '';\n",
              "        dataTable['output_type'] = 'display_data';\n",
              "        await google.colab.output.renderOutput(dataTable, element);\n",
              "        const docLink = document.createElement('div');\n",
              "        docLink.innerHTML = docLinkHtml;\n",
              "        element.appendChild(docLink);\n",
              "      }\n",
              "    </script>\n",
              "  </div>\n",
              "\n",
              "\n",
              "    <div id=\"df-3680ff4a-bfd8-45b2-b14b-975a87fcbb76\">\n",
              "      <button class=\"colab-df-quickchart\" onclick=\"quickchart('df-3680ff4a-bfd8-45b2-b14b-975a87fcbb76')\"\n",
              "                title=\"Suggest charts\"\n",
              "                style=\"display:none;\">\n",
              "\n",
              "<svg xmlns=\"http://www.w3.org/2000/svg\" height=\"24px\"viewBox=\"0 0 24 24\"\n",
              "     width=\"24px\">\n",
              "    <g>\n",
              "        <path d=\"M19 3H5c-1.1 0-2 .9-2 2v14c0 1.1.9 2 2 2h14c1.1 0 2-.9 2-2V5c0-1.1-.9-2-2-2zM9 17H7v-7h2v7zm4 0h-2V7h2v10zm4 0h-2v-4h2v4z\"/>\n",
              "    </g>\n",
              "</svg>\n",
              "      </button>\n",
              "\n",
              "<style>\n",
              "  .colab-df-quickchart {\n",
              "      --bg-color: #E8F0FE;\n",
              "      --fill-color: #1967D2;\n",
              "      --hover-bg-color: #E2EBFA;\n",
              "      --hover-fill-color: #174EA6;\n",
              "      --disabled-fill-color: #AAA;\n",
              "      --disabled-bg-color: #DDD;\n",
              "  }\n",
              "\n",
              "  [theme=dark] .colab-df-quickchart {\n",
              "      --bg-color: #3B4455;\n",
              "      --fill-color: #D2E3FC;\n",
              "      --hover-bg-color: #434B5C;\n",
              "      --hover-fill-color: #FFFFFF;\n",
              "      --disabled-bg-color: #3B4455;\n",
              "      --disabled-fill-color: #666;\n",
              "  }\n",
              "\n",
              "  .colab-df-quickchart {\n",
              "    background-color: var(--bg-color);\n",
              "    border: none;\n",
              "    border-radius: 50%;\n",
              "    cursor: pointer;\n",
              "    display: none;\n",
              "    fill: var(--fill-color);\n",
              "    height: 32px;\n",
              "    padding: 0;\n",
              "    width: 32px;\n",
              "  }\n",
              "\n",
              "  .colab-df-quickchart:hover {\n",
              "    background-color: var(--hover-bg-color);\n",
              "    box-shadow: 0 1px 2px rgba(60, 64, 67, 0.3), 0 1px 3px 1px rgba(60, 64, 67, 0.15);\n",
              "    fill: var(--button-hover-fill-color);\n",
              "  }\n",
              "\n",
              "  .colab-df-quickchart-complete:disabled,\n",
              "  .colab-df-quickchart-complete:disabled:hover {\n",
              "    background-color: var(--disabled-bg-color);\n",
              "    fill: var(--disabled-fill-color);\n",
              "    box-shadow: none;\n",
              "  }\n",
              "\n",
              "  .colab-df-spinner {\n",
              "    border: 2px solid var(--fill-color);\n",
              "    border-color: transparent;\n",
              "    border-bottom-color: var(--fill-color);\n",
              "    animation:\n",
              "      spin 1s steps(1) infinite;\n",
              "  }\n",
              "\n",
              "  @keyframes spin {\n",
              "    0% {\n",
              "      border-color: transparent;\n",
              "      border-bottom-color: var(--fill-color);\n",
              "      border-left-color: var(--fill-color);\n",
              "    }\n",
              "    20% {\n",
              "      border-color: transparent;\n",
              "      border-left-color: var(--fill-color);\n",
              "      border-top-color: var(--fill-color);\n",
              "    }\n",
              "    30% {\n",
              "      border-color: transparent;\n",
              "      border-left-color: var(--fill-color);\n",
              "      border-top-color: var(--fill-color);\n",
              "      border-right-color: var(--fill-color);\n",
              "    }\n",
              "    40% {\n",
              "      border-color: transparent;\n",
              "      border-right-color: var(--fill-color);\n",
              "      border-top-color: var(--fill-color);\n",
              "    }\n",
              "    60% {\n",
              "      border-color: transparent;\n",
              "      border-right-color: var(--fill-color);\n",
              "    }\n",
              "    80% {\n",
              "      border-color: transparent;\n",
              "      border-right-color: var(--fill-color);\n",
              "      border-bottom-color: var(--fill-color);\n",
              "    }\n",
              "    90% {\n",
              "      border-color: transparent;\n",
              "      border-bottom-color: var(--fill-color);\n",
              "    }\n",
              "  }\n",
              "</style>\n",
              "\n",
              "      <script>\n",
              "        async function quickchart(key) {\n",
              "          const quickchartButtonEl =\n",
              "            document.querySelector('#' + key + ' button');\n",
              "          quickchartButtonEl.disabled = true;  // To prevent multiple clicks.\n",
              "          quickchartButtonEl.classList.add('colab-df-spinner');\n",
              "          try {\n",
              "            const charts = await google.colab.kernel.invokeFunction(\n",
              "                'suggestCharts', [key], {});\n",
              "          } catch (error) {\n",
              "            console.error('Error during call to suggestCharts:', error);\n",
              "          }\n",
              "          quickchartButtonEl.classList.remove('colab-df-spinner');\n",
              "          quickchartButtonEl.classList.add('colab-df-quickchart-complete');\n",
              "        }\n",
              "        (() => {\n",
              "          let quickchartButtonEl =\n",
              "            document.querySelector('#df-3680ff4a-bfd8-45b2-b14b-975a87fcbb76 button');\n",
              "          quickchartButtonEl.style.display =\n",
              "            google.colab.kernel.accessAllowed ? 'block' : 'none';\n",
              "        })();\n",
              "      </script>\n",
              "    </div>\n",
              "\n",
              "  <div id=\"id_c21d24bf-0f78-48f2-8d1f-6971da4f8fe2\">\n",
              "    <style>\n",
              "      .colab-df-generate {\n",
              "        background-color: #E8F0FE;\n",
              "        border: none;\n",
              "        border-radius: 50%;\n",
              "        cursor: pointer;\n",
              "        display: none;\n",
              "        fill: #1967D2;\n",
              "        height: 32px;\n",
              "        padding: 0 0 0 0;\n",
              "        width: 32px;\n",
              "      }\n",
              "\n",
              "      .colab-df-generate:hover {\n",
              "        background-color: #E2EBFA;\n",
              "        box-shadow: 0px 1px 2px rgba(60, 64, 67, 0.3), 0px 1px 3px 1px rgba(60, 64, 67, 0.15);\n",
              "        fill: #174EA6;\n",
              "      }\n",
              "\n",
              "      [theme=dark] .colab-df-generate {\n",
              "        background-color: #3B4455;\n",
              "        fill: #D2E3FC;\n",
              "      }\n",
              "\n",
              "      [theme=dark] .colab-df-generate:hover {\n",
              "        background-color: #434B5C;\n",
              "        box-shadow: 0px 1px 3px 1px rgba(0, 0, 0, 0.15);\n",
              "        filter: drop-shadow(0px 1px 2px rgba(0, 0, 0, 0.3));\n",
              "        fill: #FFFFFF;\n",
              "      }\n",
              "    </style>\n",
              "    <button class=\"colab-df-generate\" onclick=\"generateWithVariable('z')\"\n",
              "            title=\"Generate code using this dataframe.\"\n",
              "            style=\"display:none;\">\n",
              "\n",
              "  <svg xmlns=\"http://www.w3.org/2000/svg\" height=\"24px\"viewBox=\"0 0 24 24\"\n",
              "       width=\"24px\">\n",
              "    <path d=\"M7,19H8.4L18.45,9,17,7.55,7,17.6ZM5,21V16.75L18.45,3.32a2,2,0,0,1,2.83,0l1.4,1.43a1.91,1.91,0,0,1,.58,1.4,1.91,1.91,0,0,1-.58,1.4L9.25,21ZM18.45,9,17,7.55Zm-12,3A5.31,5.31,0,0,0,4.9,8.1,5.31,5.31,0,0,0,1,6.5,5.31,5.31,0,0,0,4.9,4.9,5.31,5.31,0,0,0,6.5,1,5.31,5.31,0,0,0,8.1,4.9,5.31,5.31,0,0,0,12,6.5,5.46,5.46,0,0,0,6.5,12Z\"/>\n",
              "  </svg>\n",
              "    </button>\n",
              "    <script>\n",
              "      (() => {\n",
              "      const buttonEl =\n",
              "        document.querySelector('#id_c21d24bf-0f78-48f2-8d1f-6971da4f8fe2 button.colab-df-generate');\n",
              "      buttonEl.style.display =\n",
              "        google.colab.kernel.accessAllowed ? 'block' : 'none';\n",
              "\n",
              "      buttonEl.onclick = () => {\n",
              "        google.colab.notebook.generateWithVariable('z');\n",
              "      }\n",
              "      })();\n",
              "    </script>\n",
              "  </div>\n",
              "\n",
              "    </div>\n",
              "  </div>\n"
            ],
            "application/vnd.google.colaboratory.intrinsic+json": {
              "type": "dataframe",
              "variable_name": "z",
              "summary": "{\n  \"name\": \"z\",\n  \"rows\": 6,\n  \"fields\": [\n    {\n      \"column\": \"Volume\",\n      \"properties\": {\n        \"dtype\": \"number\",\n        \"std\": 0.4386786745517498,\n        \"min\": -0.2508775356756366,\n        \"max\": 1.0,\n        \"num_unique_values\": 6,\n        \"samples\": [\n          1.0,\n          -0.2508775356756366,\n          -0.044373034184740555\n        ],\n        \"semantic_type\": \"\",\n        \"description\": \"\"\n      }\n    },\n    {\n      \"column\": \"Avg Price\",\n      \"properties\": {\n        \"dtype\": \"number\",\n        \"std\": 0.7422783447109984,\n        \"min\": -0.8315818533541923,\n        \"max\": 1.0,\n        \"num_unique_values\": 6,\n        \"samples\": [\n          -0.2508775356756366,\n          1.0,\n          0.8411661215452636\n        ],\n        \"semantic_type\": \"\",\n        \"description\": \"\"\n      }\n    },\n    {\n      \"column\": \"Total Sales Value\",\n      \"properties\": {\n        \"dtype\": \"number\",\n        \"std\": 0.7568429298922263,\n        \"min\": -0.8354307899511592,\n        \"max\": 1.0,\n        \"num_unique_values\": 6,\n        \"samples\": [\n          -0.0347892984022513,\n          0.8319777444352271,\n          0.9993817573685623\n        ],\n        \"semantic_type\": \"\",\n        \"description\": \"\"\n      }\n    },\n    {\n      \"column\": \"Discount Rate (%)\",\n      \"properties\": {\n        \"dtype\": \"number\",\n        \"std\": 0.7600265245508895,\n        \"min\": -0.8467202645974098,\n        \"max\": 1.0,\n        \"num_unique_values\": 6,\n        \"samples\": [\n          0.1579717845463008,\n          -0.8315818533541923,\n          -0.8467202645974098\n        ],\n        \"semantic_type\": \"\",\n        \"description\": \"\"\n      }\n    },\n    {\n      \"column\": \"Discount Amount\",\n      \"properties\": {\n        \"dtype\": \"number\",\n        \"std\": 0.6589534630779496,\n        \"min\": -0.6576068170980014,\n        \"max\": 1.0,\n        \"num_unique_values\": 6,\n        \"samples\": [\n          0.06629732000930517,\n          0.6760069245982058,\n          0.919127228461424\n        ],\n        \"semantic_type\": \"\",\n        \"description\": \"\"\n      }\n    },\n    {\n      \"column\": \"Net Sales Value\",\n      \"properties\": {\n        \"dtype\": \"number\",\n        \"std\": 0.7613886143496694,\n        \"min\": -0.8467202645974098,\n        \"max\": 1.0,\n        \"num_unique_values\": 6,\n        \"samples\": [\n          -0.044373034184740555,\n          0.8411661215452636,\n          1.0\n        ],\n        \"semantic_type\": \"\",\n        \"description\": \"\"\n      }\n    }\n  ]\n}"
            }
          },
          "metadata": {},
          "execution_count": 80
        }
      ]
    },
    {
      "cell_type": "code",
      "source": [
        "import seaborn as sns\n",
        "sns.heatmap(z,annot=True)"
      ],
      "metadata": {
        "colab": {
          "base_uri": "https://localhost:8080/",
          "height": 565
        },
        "id": "KcFqKrR4GXFO",
        "outputId": "217cd616-451f-462b-e7ec-ad59eebf7528"
      },
      "execution_count": 81,
      "outputs": [
        {
          "output_type": "execute_result",
          "data": {
            "text/plain": [
              "<Axes: >"
            ]
          },
          "metadata": {},
          "execution_count": 81
        },
        {
          "output_type": "display_data",
          "data": {
            "text/plain": [
              "<Figure size 640x480 with 2 Axes>"
            ],
            "image/png": "[encoded data removed]"
          },
          "metadata": {}
        }
      ]
    },
    {
      "cell_type": "code",
      "source": [
        "import numpy as np"
      ],
      "metadata": {
        "id": "EQcEqb5mGbxR"
      },
      "execution_count": 82,
      "outputs": []
    },
    {
      "cell_type": "code",
      "source": [
        "import matplotlib.pyplot as plt\n"
      ],
      "metadata": {
        "id": "jyjXd_SXHcKJ"
      },
      "execution_count": 83,
      "outputs": []
    },
    {
      "cell_type": "markdown",
      "source": [
        "MEAN"
      ],
      "metadata": {
        "id": "50-KkG75LYW-"
      }
    },
    {
      "cell_type": "code",
      "source": [
        "mean1=df['Volume'].mean()\n",
        "mean1"
      ],
      "metadata": {
        "colab": {
          "base_uri": "https://localhost:8080/"
        },
        "id": "JjEtqj3OHezU",
        "outputId": "97e8b5dc-0d30-4b10-8719-b84ac94d3fc5"
      },
      "execution_count": 84,
      "outputs": [
        {
          "output_type": "execute_result",
          "data": {
            "text/plain": [
              "np.float64(5.066666666666666)"
            ]
          },
          "metadata": {},
          "execution_count": 84
        }
      ]
    },
    {
      "cell_type": "code",
      "source": [
        "mean2=df['Avg Price'].mean()\n",
        "mean2"
      ],
      "metadata": {
        "colab": {
          "base_uri": "https://localhost:8080/"
        },
        "id": "JqYJxodrHkh3",
        "outputId": "69cd86e0-e7c2-4bd3-fc90-9daa9f377826"
      },
      "execution_count": 85,
      "outputs": [
        {
          "output_type": "execute_result",
          "data": {
            "text/plain": [
              "np.float64(10453.433333333332)"
            ]
          },
          "metadata": {},
          "execution_count": 85
        }
      ]
    },
    {
      "cell_type": "code",
      "source": [
        "mean3=df['Total Sales Value'].mean()\n",
        "mean3"
      ],
      "metadata": {
        "colab": {
          "base_uri": "https://localhost:8080/"
        },
        "id": "hNj82HP3H5-U",
        "outputId": "6ebf7086-8fb0-4140-db6e-df82d0fa118f"
      },
      "execution_count": 86,
      "outputs": [
        {
          "output_type": "execute_result",
          "data": {
            "text/plain": [
              "np.float64(33812.83555555555)"
            ]
          },
          "metadata": {},
          "execution_count": 86
        }
      ]
    },
    {
      "cell_type": "code",
      "source": [
        "mean4=df['Discount Rate (%)'].mean()\n",
        "mean4"
      ],
      "metadata": {
        "colab": {
          "base_uri": "https://localhost:8080/"
        },
        "id": "HtHj0qGQIDJj",
        "outputId": "33b601c4-9d6a-484d-d246-f0c8261a6c25"
      },
      "execution_count": 87,
      "outputs": [
        {
          "output_type": "execute_result",
          "data": {
            "text/plain": [
              "np.float64(15.155241895330914)"
            ]
          },
          "metadata": {},
          "execution_count": 87
        }
      ]
    },
    {
      "cell_type": "code",
      "source": [
        "mean5=df['Discount Amount'].mean()\n",
        "mean5"
      ],
      "metadata": {
        "colab": {
          "base_uri": "https://localhost:8080/"
        },
        "id": "WhPgrm63IGsR",
        "outputId": "7fcaa336-5eaa-430b-9347-b5fa091c3de3"
      },
      "execution_count": 88,
      "outputs": [
        {
          "output_type": "execute_result",
          "data": {
            "text/plain": [
              "np.float64(3346.499424342415)"
            ]
          },
          "metadata": {},
          "execution_count": 88
        }
      ]
    },
    {
      "cell_type": "code",
      "source": [
        "mean6=df['Net Sales Value'].mean()\n",
        "mean6"
      ],
      "metadata": {
        "colab": {
          "base_uri": "https://localhost:8080/"
        },
        "id": "lmIs4BfAIwtW",
        "outputId": "ebcd7439-bea1-4a2c-e0a6-4882b9e24a30"
      },
      "execution_count": 89,
      "outputs": [
        {
          "output_type": "execute_result",
          "data": {
            "text/plain": [
              "np.float64(30466.336131270138)"
            ]
          },
          "metadata": {},
          "execution_count": 89
        }
      ]
    },
    {
      "cell_type": "markdown",
      "source": [
        "MEDIAN"
      ],
      "metadata": {
        "id": "U4_wQ7JjLaJ4"
      }
    },
    {
      "cell_type": "code",
      "source": [
        "df['Volume'].median()"
      ],
      "metadata": {
        "colab": {
          "base_uri": "https://localhost:8080/"
        },
        "id": "BweLckSqLUvd",
        "outputId": "6518ba80-0425-4e02-f3ae-fe11725c0d54"
      },
      "execution_count": 90,
      "outputs": [
        {
          "output_type": "execute_result",
          "data": {
            "text/plain": [
              "4.0"
            ]
          },
          "metadata": {},
          "execution_count": 90
        }
      ]
    },
    {
      "cell_type": "code",
      "source": [
        "df['Avg Price'].median()"
      ],
      "metadata": {
        "colab": {
          "base_uri": "https://localhost:8080/"
        },
        "id": "tQz4pbgiLmCh",
        "outputId": "7fc7feab-fa50-421a-a715-33a4dc852a1f"
      },
      "execution_count": 91,
      "outputs": [
        {
          "output_type": "execute_result",
          "data": {
            "text/plain": [
              "1450.0"
            ]
          },
          "metadata": {},
          "execution_count": 91
        }
      ]
    },
    {
      "cell_type": "code",
      "source": [
        "df['Total Sales Value'].median()"
      ],
      "metadata": {
        "colab": {
          "base_uri": "https://localhost:8080/"
        },
        "id": "uEJZbU0zLpTF",
        "outputId": "d78f7eee-5138-43c7-bfba-a2408c7cc89e"
      },
      "execution_count": 92,
      "outputs": [
        {
          "output_type": "execute_result",
          "data": {
            "text/plain": [
              "5700.0"
            ]
          },
          "metadata": {},
          "execution_count": 92
        }
      ]
    },
    {
      "cell_type": "code",
      "source": [
        "df['Discount Rate (%)'].median()"
      ],
      "metadata": {
        "colab": {
          "base_uri": "https://localhost:8080/"
        },
        "id": "xlHpYREzLuEA",
        "outputId": "cce75357-0ab3-4659-e984-4b7cf1a02710"
      },
      "execution_count": 93,
      "outputs": [
        {
          "output_type": "execute_result",
          "data": {
            "text/plain": [
              "16.57776564929597"
            ]
          },
          "metadata": {},
          "execution_count": 93
        }
      ]
    },
    {
      "cell_type": "code",
      "source": [
        "df['Discount Amount'].median()"
      ],
      "metadata": {
        "colab": {
          "base_uri": "https://localhost:8080/"
        },
        "id": "CCRNuirXMON9",
        "outputId": "4126f6c5-546c-43b9-c9f2-feed8e42d0f1"
      },
      "execution_count": 94,
      "outputs": [
        {
          "output_type": "execute_result",
          "data": {
            "text/plain": [
              "988.9337332382784"
            ]
          },
          "metadata": {},
          "execution_count": 94
        }
      ]
    },
    {
      "cell_type": "code",
      "source": [
        "df['Net Sales Value'].median()"
      ],
      "metadata": {
        "colab": {
          "base_uri": "https://localhost:8080/"
        },
        "id": "kwF5rbbNMUkU",
        "outputId": "2b8dfa1c-a40a-4c65-c6ad-88312b67a19d"
      },
      "execution_count": 95,
      "outputs": [
        {
          "output_type": "execute_result",
          "data": {
            "text/plain": [
              "4677.788059301853"
            ]
          },
          "metadata": {},
          "execution_count": 95
        }
      ]
    },
    {
      "cell_type": "markdown",
      "source": [
        "MODE"
      ],
      "metadata": {
        "id": "Lu9zN_dNMa3n"
      }
    },
    {
      "cell_type": "code",
      "source": [
        "import statistics"
      ],
      "metadata": {
        "id": "1ftRZeZGNmM1"
      },
      "execution_count": 96,
      "outputs": []
    },
    {
      "cell_type": "code",
      "source": [
        "from statistics import mode"
      ],
      "metadata": {
        "id": "T32t3f-qNqW-"
      },
      "execution_count": 97,
      "outputs": []
    },
    {
      "cell_type": "code",
      "source": [
        "mode(df.Volume)"
      ],
      "metadata": {
        "colab": {
          "base_uri": "https://localhost:8080/"
        },
        "id": "dhGCYtAuMY7U",
        "outputId": "b9d0f214-c7c3-447a-a1da-e6204de20c2f"
      },
      "execution_count": 98,
      "outputs": [
        {
          "output_type": "execute_result",
          "data": {
            "text/plain": [
              "3"
            ]
          },
          "metadata": {},
          "execution_count": 98
        }
      ]
    },
    {
      "cell_type": "code",
      "source": [
        "mode(df['Avg Price'])"
      ],
      "metadata": {
        "colab": {
          "base_uri": "https://localhost:8080/"
        },
        "id": "tgG0HfTbMhUY",
        "outputId": "73076a69-11b6-4855-d260-a64145e7f2a8"
      },
      "execution_count": 99,
      "outputs": [
        {
          "output_type": "execute_result",
          "data": {
            "text/plain": [
              "8100"
            ]
          },
          "metadata": {},
          "execution_count": 99
        }
      ]
    },
    {
      "cell_type": "code",
      "source": [
        "mode(df['Total Sales Value'])"
      ],
      "metadata": {
        "colab": {
          "base_uri": "https://localhost:8080/"
        },
        "id": "DKKaWMp7M3fW",
        "outputId": "be13ca19-d927-4150-eadb-05af6b71e9b9"
      },
      "execution_count": 100,
      "outputs": [
        {
          "output_type": "execute_result",
          "data": {
            "text/plain": [
              "24300"
            ]
          },
          "metadata": {},
          "execution_count": 100
        }
      ]
    },
    {
      "cell_type": "code",
      "source": [
        "mode(df['Discount Amount'])"
      ],
      "metadata": {
        "colab": {
          "base_uri": "https://localhost:8080/"
        },
        "id": "C8EP66DwM9Sr",
        "outputId": "99f77d35-a4b8-40dc-b041-fedb83b01561"
      },
      "execution_count": 101,
      "outputs": [
        {
          "output_type": "execute_result",
          "data": {
            "text/plain": [
              "21153.49881959317"
            ]
          },
          "metadata": {},
          "execution_count": 101
        }
      ]
    },
    {
      "cell_type": "code",
      "source": [
        "mode(df['Discount Rate (%)'])"
      ],
      "metadata": {
        "id": "K6RWtae3NJ5r",
        "colab": {
          "base_uri": "https://localhost:8080/"
        },
        "outputId": "d8001940-cddf-4b2d-8435-2dff5963d0ed"
      },
      "execution_count": 102,
      "outputs": [
        {
          "output_type": "execute_result",
          "data": {
            "text/plain": [
              "11.654820286277229"
            ]
          },
          "metadata": {},
          "execution_count": 102
        }
      ]
    },
    {
      "cell_type": "code",
      "source": [
        "mode(df['Net Sales Value'])"
      ],
      "metadata": {
        "colab": {
          "base_uri": "https://localhost:8080/"
        },
        "id": "kKloVl8cMUcw",
        "outputId": "960aa046-7c2f-411c-e7eb-79122342ead7"
      },
      "execution_count": 103,
      "outputs": [
        {
          "output_type": "execute_result",
          "data": {
            "text/plain": [
              "160346.50118040683"
            ]
          },
          "metadata": {},
          "execution_count": 103
        }
      ]
    },
    {
      "cell_type": "code",
      "source": [
        "std1=df['Volume'].std()\n",
        "std1"
      ],
      "metadata": {
        "colab": {
          "base_uri": "https://localhost:8080/"
        },
        "id": "GjcZUd1gMkiH",
        "outputId": "fb31a9e7-f5cc-407e-9ba2-4572a208a80b"
      },
      "execution_count": 135,
      "outputs": [
        {
          "output_type": "execute_result",
          "data": {
            "text/plain": [
              "4.231602391213926"
            ]
          },
          "metadata": {},
          "execution_count": 135
        }
      ]
    },
    {
      "cell_type": "code",
      "source": [
        "std2=df['Avg Price'].std()\n",
        "std2"
      ],
      "metadata": {
        "colab": {
          "base_uri": "https://localhost:8080/"
        },
        "id": "YLudbwOdMpkH",
        "outputId": "a7a92e33-9888-40ef-d070-ec7905e3b7d1"
      },
      "execution_count": 136,
      "outputs": [
        {
          "output_type": "execute_result",
          "data": {
            "text/plain": [
              "18079.90483993645"
            ]
          },
          "metadata": {},
          "execution_count": 136
        }
      ]
    },
    {
      "cell_type": "code",
      "source": [
        "std3=df['Total Sales Value'].std()\n",
        "std3"
      ],
      "metadata": {
        "colab": {
          "base_uri": "https://localhost:8080/"
        },
        "id": "qlV0sV7qM8CN",
        "outputId": "bf44eed4-f714-498f-c729-632721e74d9a"
      },
      "execution_count": 137,
      "outputs": [
        {
          "output_type": "execute_result",
          "data": {
            "text/plain": [
              "50535.07417255328"
            ]
          },
          "metadata": {},
          "execution_count": 137
        }
      ]
    },
    {
      "cell_type": "code",
      "source": [
        "std4=df['Discount Amount'].std()\n",
        "std4"
      ],
      "metadata": {
        "colab": {
          "base_uri": "https://localhost:8080/"
        },
        "id": "hPgIpPM-M9cd",
        "outputId": "3c159105-be87-4baa-b050-da17a998f895"
      },
      "execution_count": 138,
      "outputs": [
        {
          "output_type": "execute_result",
          "data": {
            "text/plain": [
              "4509.9029633539985"
            ]
          },
          "metadata": {},
          "execution_count": 138
        }
      ]
    },
    {
      "cell_type": "code",
      "source": [
        "std5=df['Discount Rate (%)'].std()\n",
        "std5"
      ],
      "metadata": {
        "colab": {
          "base_uri": "https://localhost:8080/"
        },
        "id": "3GF_6KKcM_py",
        "outputId": "6aed1150-5486-4405-87c1-1e227524c916"
      },
      "execution_count": 139,
      "outputs": [
        {
          "output_type": "execute_result",
          "data": {
            "text/plain": [
              "4.220602153325511"
            ]
          },
          "metadata": {},
          "execution_count": 139
        }
      ]
    },
    {
      "cell_type": "code",
      "source": [
        "std6=df['Net Sales Value'].std()\n",
        "std6"
      ],
      "metadata": {
        "colab": {
          "base_uri": "https://localhost:8080/"
        },
        "id": "YcxXl5aCNBaY",
        "outputId": "740c9e74-8de3-4c80-d445-17b0e4367652"
      },
      "execution_count": 140,
      "outputs": [
        {
          "output_type": "execute_result",
          "data": {
            "text/plain": [
              "46358.656624066934"
            ]
          },
          "metadata": {},
          "execution_count": 140
        }
      ]
    },
    {
      "cell_type": "markdown",
      "source": [
        "DATA VISUALIZATION"
      ],
      "metadata": {
        "id": "mhrTAgYyNJAb"
      }
    },
    {
      "cell_type": "code",
      "source": [
        "import matplotlib.pyplot as plt\n"
      ],
      "metadata": {
        "id": "fjTme9l-NC_6"
      },
      "execution_count": 110,
      "outputs": []
    },
    {
      "cell_type": "code",
      "source": [
        "numeric_cols = df.select_dtypes(include=np.number).columns.tolist()\n",
        "numeric_cols"
      ],
      "metadata": {
        "colab": {
          "base_uri": "https://localhost:8080/"
        },
        "id": "M-2WEe77NXWt",
        "outputId": "a3598f33-900c-4689-a726-8e2c5b942eb4"
      },
      "execution_count": 111,
      "outputs": [
        {
          "output_type": "execute_result",
          "data": {
            "text/plain": [
              "['Volume',\n",
              " 'Avg Price',\n",
              " 'Total Sales Value',\n",
              " 'Discount Rate (%)',\n",
              " 'Discount Amount',\n",
              " 'Net Sales Value']"
            ]
          },
          "metadata": {},
          "execution_count": 111
        }
      ]
    },
    {
      "cell_type": "code",
      "source": [
        "from scipy.stats import skew"
      ],
      "metadata": {
        "id": "2jktvgrvPx8W"
      },
      "execution_count": 112,
      "outputs": []
    },
    {
      "cell_type": "code",
      "source": [
        "plt.hist(df.Volume)\n",
        "print(df['Volume'].skew())\n",
        "#positive skewness infers the that data is skewed towards right side"
      ],
      "metadata": {
        "colab": {
          "base_uri": "https://localhost:8080/",
          "height": 448
        },
        "id": "Ipfsu8t4Nc4z",
        "outputId": "c7201c73-948e-4ac9-c4a5-6aa9a429d0ff"
      },
      "execution_count": 113,
      "outputs": [
        {
          "output_type": "stream",
          "name": "stdout",
          "text": [
            "2.731723626557714\n"
          ]
        },
        {
          "output_type": "display_data",
          "data": {
            "text/plain": [
              "<Figure size 640x480 with 1 Axes>"
            ],
            "image/png": "[encoded data removed]"
          },
          "metadata": {}
        }
      ]
    },
    {
      "cell_type": "code",
      "source": [
        "plt.hist(df['Avg Price'])\n",
        "print(df['Avg Price'].skew())\n",
        "#positive skewness infers the that data is skewed towards right side"
      ],
      "metadata": {
        "colab": {
          "base_uri": "https://localhost:8080/",
          "height": 448
        },
        "id": "c4OnKykZNvWy",
        "outputId": "8d105c87-0b59-47e0-8ad7-c5b1edae1419"
      },
      "execution_count": 114,
      "outputs": [
        {
          "output_type": "stream",
          "name": "stdout",
          "text": [
            "1.9088730767759727\n"
          ]
        },
        {
          "output_type": "display_data",
          "data": {
            "text/plain": [
              "<Figure size 640x480 with 1 Axes>"
            ],
            "image/png": "[encoded data removed]"
          },
          "metadata": {}
        }
      ]
    },
    {
      "cell_type": "code",
      "source": [
        "plt.hist(df['Total Sales Value'])\n",
        "print(df[\"Total Sales Value\"].skew())\n",
        "#positive skewness infers the that data is skewed towards right side"
      ],
      "metadata": {
        "colab": {
          "base_uri": "https://localhost:8080/",
          "height": 448
        },
        "id": "IbpgSHhENx1I",
        "outputId": "546a74ce-7cff-4790-adec-506d7fae5292"
      },
      "execution_count": 115,
      "outputs": [
        {
          "output_type": "stream",
          "name": "stdout",
          "text": [
            "1.5347293238977937\n"
          ]
        },
        {
          "output_type": "display_data",
          "data": {
            "text/plain": [
              "<Figure size 640x480 with 1 Axes>"
            ],
            "image/png": "[encoded data removed]"
          },
          "metadata": {}
        }
      ]
    },
    {
      "cell_type": "code",
      "source": [
        "plt.hist(df['Discount Amount'])\n",
        "print(df['Discount Amount'].skew())\n",
        "#positive skewness infers the that data is skewed towards right side"
      ],
      "metadata": {
        "colab": {
          "base_uri": "https://localhost:8080/",
          "height": 448
        },
        "id": "E6s95PCuN1Xz",
        "outputId": "03a2f78b-b89d-463d-a806-a8d8aab0f78d"
      },
      "execution_count": 116,
      "outputs": [
        {
          "output_type": "stream",
          "name": "stdout",
          "text": [
            "1.9130377339538271\n"
          ]
        },
        {
          "output_type": "display_data",
          "data": {
            "text/plain": [
              "<Figure size 640x480 with 1 Axes>"
            ],
            "image/png": "[encoded data removed]"
          },
          "metadata": {}
        }
      ]
    },
    {
      "cell_type": "code",
      "source": [
        "plt.hist(df['Discount Rate (%)'])\n",
        "print(df['Discount Rate (%)'].skew())\n",
        "#positive skewness infers the that data is skewed towards right side"
      ],
      "metadata": {
        "colab": {
          "base_uri": "https://localhost:8080/",
          "height": 451
        },
        "id": "AA9jZyhXOTpX",
        "outputId": "0194db0d-c918-4348-91cc-1fa84b967a43"
      },
      "execution_count": 117,
      "outputs": [
        {
          "output_type": "stream",
          "name": "stdout",
          "text": [
            "-1.0622943696988825\n"
          ]
        },
        {
          "output_type": "display_data",
          "data": {
            "text/plain": [
              "<Figure size 640x480 with 1 Axes>"
            ],
            "image/png": "[encoded data removed]"
          },
          "metadata": {}
        }
      ]
    },
    {
      "cell_type": "code",
      "source": [
        "plt.hist(df['Net Sales Value'])\n",
        "print(df['Net Sales Value'].skew())\n",
        "#positive skewness infers the that data is skewed towards right side"
      ],
      "metadata": {
        "colab": {
          "base_uri": "https://localhost:8080/",
          "height": 448
        },
        "id": "046wKHGbOXcc",
        "outputId": "cb07e32e-607d-44b9-ffb0-77927dfdce64"
      },
      "execution_count": 118,
      "outputs": [
        {
          "output_type": "stream",
          "name": "stdout",
          "text": [
            "1.5408217575344376\n"
          ]
        },
        {
          "output_type": "display_data",
          "data": {
            "text/plain": [
              "<Figure size 640x480 with 1 Axes>"
            ],
            "image/png": "[encoded data removed]"
          },
          "metadata": {}
        }
      ]
    },
    {
      "cell_type": "code",
      "source": [
        "#we infer that the dataset is properly classified and processed for further classification of ML models"
      ],
      "metadata": {
        "id": "Yj6P4RlwObm5"
      },
      "execution_count": 119,
      "outputs": []
    },
    {
      "cell_type": "code",
      "source": [
        "plt.boxplot(df['Volume'])"
      ],
      "metadata": {
        "colab": {
          "base_uri": "https://localhost:8080/",
          "height": 575
        },
        "id": "Id8V5f3RU_UY",
        "outputId": "707c20cb-bb77-437d-b8f3-1b44b6792e64"
      },
      "execution_count": 120,
      "outputs": [
        {
          "output_type": "execute_result",
          "data": {
            "text/plain": [
              "{'whiskers': [<matplotlib.lines.Line2D at 0x7ca197bfe010>,\n",
              "  <matplotlib.lines.Line2D at 0x7ca197bfe950>],\n",
              " 'caps': [<matplotlib.lines.Line2D at 0x7ca197bff350>,\n",
              "  <matplotlib.lines.Line2D at 0x7ca197bffcd0>],\n",
              " 'boxes': [<matplotlib.lines.Line2D at 0x7ca197bfd850>],\n",
              " 'medians': [<matplotlib.lines.Line2D at 0x7ca197c0c6d0>],\n",
              " 'fliers': [<matplotlib.lines.Line2D at 0x7ca197bda350>],\n",
              " 'means': []}"
            ]
          },
          "metadata": {},
          "execution_count": 120
        },
        {
          "output_type": "display_data",
          "data": {
            "text/plain": [
              "<Figure size 640x480 with 1 Axes>"
            ],
            "image/png": "[encoded data removed]"
          },
          "metadata": {}
        }
      ]
    },
    {
      "cell_type": "code",
      "source": [
        "plt.boxplot(df['Avg Price'])"
      ],
      "metadata": {
        "colab": {
          "base_uri": "https://localhost:8080/",
          "height": 575
        },
        "id": "3pi7AG8oVJsu",
        "outputId": "108522e8-9ce3-461d-dad2-294a75502df7"
      },
      "execution_count": 121,
      "outputs": [
        {
          "output_type": "execute_result",
          "data": {
            "text/plain": [
              "{'whiskers': [<matplotlib.lines.Line2D at 0x7ca197c611d0>,\n",
              "  <matplotlib.lines.Line2D at 0x7ca197c61b10>],\n",
              " 'caps': [<matplotlib.lines.Line2D at 0x7ca197c62510>,\n",
              "  <matplotlib.lines.Line2D at 0x7ca197c62f90>],\n",
              " 'boxes': [<matplotlib.lines.Line2D at 0x7ca197c609d0>],\n",
              " 'medians': [<matplotlib.lines.Line2D at 0x7ca197c638d0>],\n",
              " 'fliers': [<matplotlib.lines.Line2D at 0x7ca197a74150>],\n",
              " 'means': []}"
            ]
          },
          "metadata": {},
          "execution_count": 121
        },
        {
          "output_type": "display_data",
          "data": {
            "text/plain": [
              "<Figure size 640x480 with 1 Axes>"
            ],
            "image/png": "[encoded data removed]"
          },
          "metadata": {}
        }
      ]
    },
    {
      "cell_type": "code",
      "source": [
        "plt.boxplot(df['Total Sales Value'])"
      ],
      "metadata": {
        "colab": {
          "base_uri": "https://localhost:8080/",
          "height": 575
        },
        "id": "oNxDgJYIVVSR",
        "outputId": "faf3814c-1bc0-4a04-b3da-fe2f6dc9ec6f"
      },
      "execution_count": 122,
      "outputs": [
        {
          "output_type": "execute_result",
          "data": {
            "text/plain": [
              "{'whiskers': [<matplotlib.lines.Line2D at 0x7ca197ac4510>,\n",
              "  <matplotlib.lines.Line2D at 0x7ca197ac4ed0>],\n",
              " 'caps': [<matplotlib.lines.Line2D at 0x7ca197ac5890>,\n",
              "  <matplotlib.lines.Line2D at 0x7ca197ac6290>],\n",
              " 'boxes': [<matplotlib.lines.Line2D at 0x7ca197ab7d10>],\n",
              " 'medians': [<matplotlib.lines.Line2D at 0x7ca197ac6c90>],\n",
              " 'fliers': [<matplotlib.lines.Line2D at 0x7ca197ac74d0>],\n",
              " 'means': []}"
            ]
          },
          "metadata": {},
          "execution_count": 122
        },
        {
          "output_type": "display_data",
          "data": {
            "text/plain": [
              "<Figure size 640x480 with 1 Axes>"
            ],
            "image/png": "[encoded data removed]"
          },
          "metadata": {}
        }
      ]
    },
    {
      "cell_type": "code",
      "source": [
        "plt.boxplot(df['Discount Amount'])"
      ],
      "metadata": {
        "colab": {
          "base_uri": "https://localhost:8080/",
          "height": 575
        },
        "id": "TB0uTgEaVkWX",
        "outputId": "74c6e93d-095b-4d26-904c-a9c0209a7013"
      },
      "execution_count": 123,
      "outputs": [
        {
          "output_type": "execute_result",
          "data": {
            "text/plain": [
              "{'whiskers': [<matplotlib.lines.Line2D at 0x7ca197afa590>,\n",
              "  <matplotlib.lines.Line2D at 0x7ca197b1fcd0>],\n",
              " 'caps': [<matplotlib.lines.Line2D at 0x7ca197b306d0>,\n",
              "  <matplotlib.lines.Line2D at 0x7ca197b30fd0>],\n",
              " 'boxes': [<matplotlib.lines.Line2D at 0x7ca197b1eed0>],\n",
              " 'medians': [<matplotlib.lines.Line2D at 0x7ca197b31990>],\n",
              " 'fliers': [<matplotlib.lines.Line2D at 0x7ca197b32310>],\n",
              " 'means': []}"
            ]
          },
          "metadata": {},
          "execution_count": 123
        },
        {
          "output_type": "display_data",
          "data": {
            "text/plain": [
              "<Figure size 640x480 with 1 Axes>"
            ],
            "image/png": "[encoded data removed]"
          },
          "metadata": {}
        }
      ]
    },
    {
      "cell_type": "code",
      "source": [
        "plt.boxplot(df['Discount Rate (%)'])"
      ],
      "metadata": {
        "colab": {
          "base_uri": "https://localhost:8080/",
          "height": 575
        },
        "id": "9qT0F3qKVnCC",
        "outputId": "4b6ecabb-3049-45fb-d8be-eff4e4a648bb"
      },
      "execution_count": 124,
      "outputs": [
        {
          "output_type": "execute_result",
          "data": {
            "text/plain": [
              "{'whiskers': [<matplotlib.lines.Line2D at 0x7ca197994150>,\n",
              "  <matplotlib.lines.Line2D at 0x7ca197994ad0>],\n",
              " 'caps': [<matplotlib.lines.Line2D at 0x7ca197995490>,\n",
              "  <matplotlib.lines.Line2D at 0x7ca197995d90>],\n",
              " 'boxes': [<matplotlib.lines.Line2D at 0x7ca19798b790>],\n",
              " 'medians': [<matplotlib.lines.Line2D at 0x7ca1979965d0>],\n",
              " 'fliers': [<matplotlib.lines.Line2D at 0x7ca197996e50>],\n",
              " 'means': []}"
            ]
          },
          "metadata": {},
          "execution_count": 124
        },
        {
          "output_type": "display_data",
          "data": {
            "text/plain": [
              "<Figure size 640x480 with 1 Axes>"
            ],
            "image/png": "[encoded data removed]"
          },
          "metadata": {}
        }
      ]
    },
    {
      "cell_type": "code",
      "source": [
        "plt.boxplot(df['Net Sales Value'])"
      ],
      "metadata": {
        "colab": {
          "base_uri": "https://localhost:8080/",
          "height": 575
        },
        "id": "gPHU1FyYVo07",
        "outputId": "8e758392-2d14-43e0-93f9-17b55ca87fb8"
      },
      "execution_count": 125,
      "outputs": [
        {
          "output_type": "execute_result",
          "data": {
            "text/plain": [
              "{'whiskers': [<matplotlib.lines.Line2D at 0x7ca1979f4750>,\n",
              "  <matplotlib.lines.Line2D at 0x7ca1979f50d0>],\n",
              " 'caps': [<matplotlib.lines.Line2D at 0x7ca1979f5a10>,\n",
              "  <matplotlib.lines.Line2D at 0x7ca1979e47d0>],\n",
              " 'boxes': [<matplotlib.lines.Line2D at 0x7ca1979e7e10>],\n",
              " 'medians': [<matplotlib.lines.Line2D at 0x7ca1979f6b50>],\n",
              " 'fliers': [<matplotlib.lines.Line2D at 0x7ca1979f7450>],\n",
              " 'means': []}"
            ]
          },
          "metadata": {},
          "execution_count": 125
        },
        {
          "output_type": "display_data",
          "data": {
            "text/plain": [
              "<Figure size 640x480 with 1 Axes>"
            ],
            "image/png": "[encoded data removed]"
          },
          "metadata": {}
        }
      ]
    },
    {
      "cell_type": "markdown",
      "source": [
        "BAR GRAPH"
      ],
      "metadata": {
        "id": "uaKiD-bXWUAO"
      }
    },
    {
      "cell_type": "code",
      "source": [
        "df.columns"
      ],
      "metadata": {
        "colab": {
          "base_uri": "https://localhost:8080/"
        },
        "id": "6c4UydtIVzw_",
        "outputId": "bc146bb0-eb41-4390-d40d-a54df76f15d6"
      },
      "execution_count": 126,
      "outputs": [
        {
          "output_type": "execute_result",
          "data": {
            "text/plain": [
              "Index(['Date', 'Day', 'SKU', 'City', 'Volume', 'BU', 'Brand', 'Model',\n",
              "       'Avg Price', 'Total Sales Value', 'Discount Rate (%)',\n",
              "       'Discount Amount', 'Net Sales Value'],\n",
              "      dtype='object')"
            ]
          },
          "metadata": {},
          "execution_count": 126
        }
      ]
    },
    {
      "cell_type": "code",
      "source": [
        "x=df.BU"
      ],
      "metadata": {
        "id": "MlLbZ3BHW-64"
      },
      "execution_count": 127,
      "outputs": []
    },
    {
      "cell_type": "code",
      "source": [
        "x"
      ],
      "metadata": {
        "colab": {
          "base_uri": "https://localhost:8080/",
          "height": 458
        },
        "id": "R5h0gyzuXsL-",
        "outputId": "11d4f467-8cad-4716-a55a-0f2eda2375da"
      },
      "execution_count": 128,
      "outputs": [
        {
          "output_type": "execute_result",
          "data": {
            "text/plain": [
              "0        Mobiles\n",
              "1        Mobiles\n",
              "2        Mobiles\n",
              "3        Mobiles\n",
              "4        Mobiles\n",
              "         ...    \n",
              "445    Lifestyle\n",
              "446    Lifestyle\n",
              "447    Lifestyle\n",
              "448    Lifestyle\n",
              "449    Lifestyle\n",
              "Name: BU, Length: 450, dtype: object"
            ],
            "text/html": [
              "<div>\n",
              "<style scoped>\n",
              "    .dataframe tbody tr th:only-of-type {\n",
              "        vertical-align: middle;\n",
              "    }\n",
              "\n",
              "    .dataframe tbody tr th {\n",
              "        vertical-align: top;\n",
              "    }\n",
              "\n",
              "    .dataframe thead th {\n",
              "        text-align: right;\n",
              "    }\n",
              "</style>\n",
              "<table border=\"1\" class=\"dataframe\">\n",
              "  <thead>\n",
              "    <tr style=\"text-align: right;\">\n",
              "      <th></th>\n",
              "      <th>BU</th>\n",
              "    </tr>\n",
              "  </thead>\n",
              "  <tbody>\n",
              "    <tr>\n",
              "      <th>0</th>\n",
              "      <td>Mobiles</td>\n",
              "    </tr>\n",
              "    <tr>\n",
              "      <th>1</th>\n",
              "      <td>Mobiles</td>\n",
              "    </tr>\n",
              "    <tr>\n",
              "      <th>2</th>\n",
              "      <td>Mobiles</td>\n",
              "    </tr>\n",
              "    <tr>\n",
              "      <th>3</th>\n",
              "      <td>Mobiles</td>\n",
              "    </tr>\n",
              "    <tr>\n",
              "      <th>4</th>\n",
              "      <td>Mobiles</td>\n",
              "    </tr>\n",
              "    <tr>\n",
              "      <th>...</th>\n",
              "      <td>...</td>\n",
              "    </tr>\n",
              "    <tr>\n",
              "      <th>445</th>\n",
              "      <td>Lifestyle</td>\n",
              "    </tr>\n",
              "    <tr>\n",
              "      <th>446</th>\n",
              "      <td>Lifestyle</td>\n",
              "    </tr>\n",
              "    <tr>\n",
              "      <th>447</th>\n",
              "      <td>Lifestyle</td>\n",
              "    </tr>\n",
              "    <tr>\n",
              "      <th>448</th>\n",
              "      <td>Lifestyle</td>\n",
              "    </tr>\n",
              "    <tr>\n",
              "      <th>449</th>\n",
              "      <td>Lifestyle</td>\n",
              "    </tr>\n",
              "  </tbody>\n",
              "</table>\n",
              "<p>450 rows × 1 columns</p>\n",
              "</div><br><label><b>dtype:</b> object</label>"
            ]
          },
          "metadata": {},
          "execution_count": 128
        }
      ]
    },
    {
      "cell_type": "code",
      "source": [
        "plt.bar(x,df.Volume)"
      ],
      "metadata": {
        "colab": {
          "base_uri": "https://localhost:8080/",
          "height": 448
        },
        "id": "4t6T310wY9Jn",
        "outputId": "eb128a73-e166-4494-9e3c-efa336f6c3d3"
      },
      "execution_count": 129,
      "outputs": [
        {
          "output_type": "execute_result",
          "data": {
            "text/plain": [
              "<BarContainer object of 450 artists>"
            ]
          },
          "metadata": {},
          "execution_count": 129
        },
        {
          "output_type": "display_data",
          "data": {
            "text/plain": [
              "<Figure size 640x480 with 1 Axes>"
            ],
            "image/png": "[encoded data removed]"
          },
          "metadata": {}
        }
      ]
    },
    {
      "cell_type": "code",
      "source": [
        "plt.bar(df.Brand,df.Volume, width=0.7)"
      ],
      "metadata": {
        "colab": {
          "base_uri": "https://localhost:8080/",
          "height": 448
        },
        "id": "NwMiv2O-Xx8W",
        "outputId": "a458178f-e357-48d4-c4a8-45b6f1f554f6"
      },
      "execution_count": 130,
      "outputs": [
        {
          "output_type": "execute_result",
          "data": {
            "text/plain": [
              "<BarContainer object of 450 artists>"
            ]
          },
          "metadata": {},
          "execution_count": 130
        },
        {
          "output_type": "display_data",
          "data": {
            "text/plain": [
              "<Figure size 640x480 with 1 Axes>"
            ],
            "image/png": "[encoded data removed]"
          },
          "metadata": {}
        }
      ]
    },
    {
      "cell_type": "code",
      "source": [
        "plt.bar(df.Model,df['Volume'], )\n",
        "\n",
        "plt.xticks(fontsize=4)"
      ],
      "metadata": {
        "colab": {
          "base_uri": "https://localhost:8080/",
          "height": 1000
        },
        "id": "4a5GZn1yYVJs",
        "outputId": "e0d15e32-4cd4-40aa-869f-1023f62303b0"
      },
      "execution_count": 131,
      "outputs": [
        {
          "output_type": "execute_result",
          "data": {
            "text/plain": [
              "([0,\n",
              "  1,\n",
              "  2,\n",
              "  3,\n",
              "  4,\n",
              "  5,\n",
              "  6,\n",
              "  7,\n",
              "  8,\n",
              "  9,\n",
              "  10,\n",
              "  11,\n",
              "  12,\n",
              "  13,\n",
              "  14,\n",
              "  15,\n",
              "  16,\n",
              "  17,\n",
              "  18,\n",
              "  19,\n",
              "  20,\n",
              "  21,\n",
              "  22,\n",
              "  23,\n",
              "  24,\n",
              "  25,\n",
              "  26,\n",
              "  27,\n",
              "  28,\n",
              "  29],\n",
              " [Text(0, 0, 'RU-10'),\n",
              "  Text(1, 0, 'RU-9 Plus'),\n",
              "  Text(2, 0, 'YM-99'),\n",
              "  Text(3, 0, 'YM-99 Plus'),\n",
              "  Text(4, 0, 'YM-98 '),\n",
              "  Text(5, 0, 'RU-9'),\n",
              "  Text(6, 0, 'S-20'),\n",
              "  Text(7, 0, 'S-21'),\n",
              "  Text(8, 0, 'O-10'),\n",
              "  Text(9, 0, 'O-11'),\n",
              "  Text(10, 0, 'Babaji Oil '),\n",
              "  Text(11, 0, 'Vedic Cream'),\n",
              "  Text(12, 0, 'Vedic Shampoo'),\n",
              "  Text(13, 0, 'Babaji Shampoo'),\n",
              "  Text(14, 0, 'Babaji Cream'),\n",
              "  Text(15, 0, 'Vedic Oil'),\n",
              "  Text(16, 0, 'Gear Oil'),\n",
              "  Text(17, 0, 'Gear Cream'),\n",
              "  Text(18, 0, 'Gear Shampoo'),\n",
              "  Text(19, 0, 'Gear BB Cream'),\n",
              "  Text(20, 0, 'M- T Shirts'),\n",
              "  Text(21, 0, 'M- Inners'),\n",
              "  Text(22, 0, 'W-Casuals'),\n",
              "  Text(23, 0, 'W-Inners'),\n",
              "  Text(24, 0, 'M-Jeans'),\n",
              "  Text(25, 0, 'M-Casuals'),\n",
              "  Text(26, 0, 'W-Western'),\n",
              "  Text(27, 0, 'W-Lounge'),\n",
              "  Text(28, 0, 'M-Formals'),\n",
              "  Text(29, 0, 'M-Shoes')])"
            ]
          },
          "metadata": {},
          "execution_count": 131
        },
        {
          "output_type": "display_data",
          "data": {
            "text/plain": [
              "<Figure size 640x480 with 1 Axes>"
            ],
            "image/png": "[encoded data removed]"
          },
          "metadata": {}
        }
      ]
    },
    {
      "cell_type": "markdown",
      "source": [
        "Z-SCORE NORMALIZATION"
      ],
      "metadata": {
        "id": "qF0iB--JBVFQ"
      }
    },
    {
      "cell_type": "code",
      "source": [
        "#z-score = (x-mean)/std where x is data incorporated. It is is used to normalize the data to increase the accuracy of the model."
      ],
      "metadata": {
        "id": "8ZitmjWMaLel"
      },
      "execution_count": 132,
      "outputs": []
    },
    {
      "cell_type": "code",
      "source": [
        "x1=df.Volume"
      ],
      "metadata": {
        "id": "49VTLwA-Bz26"
      },
      "execution_count": 134,
      "outputs": []
    },
    {
      "cell_type": "code",
      "source": [
        "from scipy.stats import zscore\n",
        "df_zscored = df[numeric_cols].apply(zscore)\n",
        "df_zscored"
      ],
      "metadata": {
        "colab": {
          "base_uri": "https://localhost:8080/",
          "height": 423
        },
        "id": "O7R1J7buB5Vw",
        "outputId": "3d739405-e0bf-4a1f-d989-2c27dc71f702"
      },
      "execution_count": 143,
      "outputs": [
        {
          "output_type": "execute_result",
          "data": {
            "text/plain": [
              "       Volume  Avg Price  Total Sales Value  Discount Rate (%)  \\\n",
              "0    2.350029   0.091173           2.925721          -0.830289   \n",
              "1    1.167129  -0.019570           1.330995          -0.852661   \n",
              "2    0.457388   0.312659           1.562775          -1.351631   \n",
              "3    0.220808   0.534146           1.719276          -1.949723   \n",
              "4   -0.488932  -0.130313          -0.188452           0.673739   \n",
              "..        ...        ...                ...                ...   \n",
              "445 -0.725512  -0.506840          -0.618334           0.076009   \n",
              "446  0.220808  -0.434857          -0.360801           0.451097   \n",
              "447 -0.725512  -0.490229          -0.606448           0.903793   \n",
              "448 -0.488932  -0.473617          -0.556923           0.388474   \n",
              "449 -0.962092  -0.407171          -0.608429           0.042235   \n",
              "\n",
              "     Discount Amount  Net Sales Value  \n",
              "0           3.952816         2.804756  \n",
              "1           1.849014         1.271026  \n",
              "2           1.622995         1.545675  \n",
              "3           1.113807         1.765810  \n",
              "4           0.227852        -0.227595  \n",
              "..               ...              ...  \n",
              "445        -0.653541        -0.610461  \n",
              "446        -0.152191        -0.378500  \n",
              "447        -0.608140        -0.601921  \n",
              "448        -0.530379        -0.555499  \n",
              "449        -0.637345        -0.601239  \n",
              "\n",
              "[450 rows x 6 columns]"
            ],
            "text/html": [
              "\n",
              "  <div id=\"df-91c0e6dc-744b-4837-abe2-30a3d0230eec\" class=\"colab-df-container\">\n",
              "    <div>\n",
              "<style scoped>\n",
              "    .dataframe tbody tr th:only-of-type {\n",
              "        vertical-align: middle;\n",
              "    }\n",
              "\n",
              "    .dataframe tbody tr th {\n",
              "        vertical-align: top;\n",
              "    }\n",
              "\n",
              "    .dataframe thead th {\n",
              "        text-align: right;\n",
              "    }\n",
              "</style>\n",
              "<table border=\"1\" class=\"dataframe\">\n",
              "  <thead>\n",
              "    <tr style=\"text-align: right;\">\n",
              "      <th></th>\n",
              "      <th>Volume</th>\n",
              "      <th>Avg Price</th>\n",
              "      <th>Total Sales Value</th>\n",
              "      <th>Discount Rate (%)</th>\n",
              "      <th>Discount Amount</th>\n",
              "      <th>Net Sales Value</th>\n",
              "    </tr>\n",
              "  </thead>\n",
              "  <tbody>\n",
              "    <tr>\n",
              "      <th>0</th>\n",
              "      <td>2.350029</td>\n",
              "      <td>0.091173</td>\n",
              "      <td>2.925721</td>\n",
              "      <td>-0.830289</td>\n",
              "      <td>3.952816</td>\n",
              "      <td>2.804756</td>\n",
              "    </tr>\n",
              "    <tr>\n",
              "      <th>1</th>\n",
              "      <td>1.167129</td>\n",
              "      <td>-0.019570</td>\n",
              "      <td>1.330995</td>\n",
              "      <td>-0.852661</td>\n",
              "      <td>1.849014</td>\n",
              "      <td>1.271026</td>\n",
              "    </tr>\n",
              "    <tr>\n",
              "      <th>2</th>\n",
              "      <td>0.457388</td>\n",
              "      <td>0.312659</td>\n",
              "      <td>1.562775</td>\n",
              "      <td>-1.351631</td>\n",
              "      <td>1.622995</td>\n",
              "      <td>1.545675</td>\n",
              "    </tr>\n",
              "    <tr>\n",
              "      <th>3</th>\n",
              "      <td>0.220808</td>\n",
              "      <td>0.534146</td>\n",
              "      <td>1.719276</td>\n",
              "      <td>-1.949723</td>\n",
              "      <td>1.113807</td>\n",
              "      <td>1.765810</td>\n",
              "    </tr>\n",
              "    <tr>\n",
              "      <th>4</th>\n",
              "      <td>-0.488932</td>\n",
              "      <td>-0.130313</td>\n",
              "      <td>-0.188452</td>\n",
              "      <td>0.673739</td>\n",
              "      <td>0.227852</td>\n",
              "      <td>-0.227595</td>\n",
              "    </tr>\n",
              "    <tr>\n",
              "      <th>...</th>\n",
              "      <td>...</td>\n",
              "      <td>...</td>\n",
              "      <td>...</td>\n",
              "      <td>...</td>\n",
              "      <td>...</td>\n",
              "      <td>...</td>\n",
              "    </tr>\n",
              "    <tr>\n",
              "      <th>445</th>\n",
              "      <td>-0.725512</td>\n",
              "      <td>-0.506840</td>\n",
              "      <td>-0.618334</td>\n",
              "      <td>0.076009</td>\n",
              "      <td>-0.653541</td>\n",
              "      <td>-0.610461</td>\n",
              "    </tr>\n",
              "    <tr>\n",
              "      <th>446</th>\n",
              "      <td>0.220808</td>\n",
              "      <td>-0.434857</td>\n",
              "      <td>-0.360801</td>\n",
              "      <td>0.451097</td>\n",
              "      <td>-0.152191</td>\n",
              "      <td>-0.378500</td>\n",
              "    </tr>\n",
              "    <tr>\n",
              "      <th>447</th>\n",
              "      <td>-0.725512</td>\n",
              "      <td>-0.490229</td>\n",
              "      <td>-0.606448</td>\n",
              "      <td>0.903793</td>\n",
              "      <td>-0.608140</td>\n",
              "      <td>-0.601921</td>\n",
              "    </tr>\n",
              "    <tr>\n",
              "      <th>448</th>\n",
              "      <td>-0.488932</td>\n",
              "      <td>-0.473617</td>\n",
              "      <td>-0.556923</td>\n",
              "      <td>0.388474</td>\n",
              "      <td>-0.530379</td>\n",
              "      <td>-0.555499</td>\n",
              "    </tr>\n",
              "    <tr>\n",
              "      <th>449</th>\n",
              "      <td>-0.962092</td>\n",
              "      <td>-0.407171</td>\n",
              "      <td>-0.608429</td>\n",
              "      <td>0.042235</td>\n",
              "      <td>-0.637345</td>\n",
              "      <td>-0.601239</td>\n",
              "    </tr>\n",
              "  </tbody>\n",
              "</table>\n",
              "<p>450 rows × 6 columns</p>\n",
              "</div>\n",
              "    <div class=\"colab-df-buttons\">\n",
              "\n",
              "  <div class=\"colab-df-container\">\n",
              "    <button class=\"colab-df-convert\" onclick=\"convertToInteractive('df-91c0e6dc-744b-4837-abe2-30a3d0230eec')\"\n",
              "            title=\"Convert this dataframe to an interactive table.\"\n",
              "            style=\"display:none;\">\n",
              "\n",
              "  <svg xmlns=\"http://www.w3.org/2000/svg\" height=\"24px\" viewBox=\"0 -960 960 960\">\n",
              "    <path d=\"M120-120v-720h720v720H120Zm60-500h600v-160H180v160Zm220 220h160v-160H400v160Zm0 220h160v-160H400v160ZM180-400h160v-160H180v160Zm440 0h160v-160H620v160ZM180-180h160v-160H180v160Zm440 0h160v-160H620v160Z\"/>\n",
              "  </svg>\n",
              "    </button>\n",
              "\n",
              "  <style>\n",
              "    .colab-df-container {\n",
              "      display:flex;\n",
              "      gap: 12px;\n",
              "    }\n",
              "\n",
              "    .colab-df-convert {\n",
              "      background-color: #E8F0FE;\n",
              "      border: none;\n",
              "      border-radius: 50%;\n",
              "      cursor: pointer;\n",
              "      display: none;\n",
              "      fill: #1967D2;\n",
              "      height: 32px;\n",
              "      padding: 0 0 0 0;\n",
              "      width: 32px;\n",
              "    }\n",
              "\n",
              "    .colab-df-convert:hover {\n",
              "      background-color: #E2EBFA;\n",
              "      box-shadow: 0px 1px 2px rgba(60, 64, 67, 0.3), 0px 1px 3px 1px rgba(60, 64, 67, 0.15);\n",
              "      fill: #174EA6;\n",
              "    }\n",
              "\n",
              "    .colab-df-buttons div {\n",
              "      margin-bottom: 4px;\n",
              "    }\n",
              "\n",
              "    [theme=dark] .colab-df-convert {\n",
              "      background-color: #3B4455;\n",
              "      fill: #D2E3FC;\n",
              "    }\n",
              "\n",
              "    [theme=dark] .colab-df-convert:hover {\n",
              "      background-color: #434B5C;\n",
              "      box-shadow: 0px 1px 3px 1px rgba(0, 0, 0, 0.15);\n",
              "      filter: drop-shadow(0px 1px 2px rgba(0, 0, 0, 0.3));\n",
              "      fill: #FFFFFF;\n",
              "    }\n",
              "  </style>\n",
              "\n",
              "    <script>\n",
              "      const buttonEl =\n",
              "        document.querySelector('#df-91c0e6dc-744b-4837-abe2-30a3d0230eec button.colab-df-convert');\n",
              "      buttonEl.style.display =\n",
              "        google.colab.kernel.accessAllowed ? 'block' : 'none';\n",
              "\n",
              "      async function convertToInteractive(key) {\n",
              "        const element = document.querySelector('#df-91c0e6dc-744b-4837-abe2-30a3d0230eec');\n",
              "        const dataTable =\n",
              "          await google.colab.kernel.invokeFunction('convertToInteractive',\n",
              "                                                    [key], {});\n",
              "        if (!dataTable) return;\n",
              "\n",
              "        const docLinkHtml = 'Like what you see? Visit the ' +\n",
              "          '<a target=\"_blank\" href=https://colab.research.google.com/notebooks/data_table.ipynb>data table notebook</a>'\n",
              "          + ' to learn more about interactive tables.';\n",
              "        element.innerHTML = '';\n",
              "        dataTable['output_type'] = 'display_data';\n",
              "        await google.colab.output.renderOutput(dataTable, element);\n",
              "        const docLink = document.createElement('div');\n",
              "        docLink.innerHTML = docLinkHtml;\n",
              "        element.appendChild(docLink);\n",
              "      }\n",
              "    </script>\n",
              "  </div>\n",
              "\n",
              "\n",
              "    <div id=\"df-62659d47-9c3b-4331-ae3a-a9290f99ac4f\">\n",
              "      <button class=\"colab-df-quickchart\" onclick=\"quickchart('df-62659d47-9c3b-4331-ae3a-a9290f99ac4f')\"\n",
              "                title=\"Suggest charts\"\n",
              "                style=\"display:none;\">\n",
              "\n",
              "<svg xmlns=\"http://www.w3.org/2000/svg\" height=\"24px\"viewBox=\"0 0 24 24\"\n",
              "     width=\"24px\">\n",
              "    <g>\n",
              "        <path d=\"M19 3H5c-1.1 0-2 .9-2 2v14c0 1.1.9 2 2 2h14c1.1 0 2-.9 2-2V5c0-1.1-.9-2-2-2zM9 17H7v-7h2v7zm4 0h-2V7h2v10zm4 0h-2v-4h2v4z\"/>\n",
              "    </g>\n",
              "</svg>\n",
              "      </button>\n",
              "\n",
              "<style>\n",
              "  .colab-df-quickchart {\n",
              "      --bg-color: #E8F0FE;\n",
              "      --fill-color: #1967D2;\n",
              "      --hover-bg-color: #E2EBFA;\n",
              "      --hover-fill-color: #174EA6;\n",
              "      --disabled-fill-color: #AAA;\n",
              "      --disabled-bg-color: #DDD;\n",
              "  }\n",
              "\n",
              "  [theme=dark] .colab-df-quickchart {\n",
              "      --bg-color: #3B4455;\n",
              "      --fill-color: #D2E3FC;\n",
              "      --hover-bg-color: #434B5C;\n",
              "      --hover-fill-color: #FFFFFF;\n",
              "      --disabled-bg-color: #3B4455;\n",
              "      --disabled-fill-color: #666;\n",
              "  }\n",
              "\n",
              "  .colab-df-quickchart {\n",
              "    background-color: var(--bg-color);\n",
              "    border: none;\n",
              "    border-radius: 50%;\n",
              "    cursor: pointer;\n",
              "    display: none;\n",
              "    fill: var(--fill-color);\n",
              "    height: 32px;\n",
              "    padding: 0;\n",
              "    width: 32px;\n",
              "  }\n",
              "\n",
              "  .colab-df-quickchart:hover {\n",
              "    background-color: var(--hover-bg-color);\n",
              "    box-shadow: 0 1px 2px rgba(60, 64, 67, 0.3), 0 1px 3px 1px rgba(60, 64, 67, 0.15);\n",
              "    fill: var(--button-hover-fill-color);\n",
              "  }\n",
              "\n",
              "  .colab-df-quickchart-complete:disabled,\n",
              "  .colab-df-quickchart-complete:disabled:hover {\n",
              "    background-color: var(--disabled-bg-color);\n",
              "    fill: var(--disabled-fill-color);\n",
              "    box-shadow: none;\n",
              "  }\n",
              "\n",
              "  .colab-df-spinner {\n",
              "    border: 2px solid var(--fill-color);\n",
              "    border-color: transparent;\n",
              "    border-bottom-color: var(--fill-color);\n",
              "    animation:\n",
              "      spin 1s steps(1) infinite;\n",
              "  }\n",
              "\n",
              "  @keyframes spin {\n",
              "    0% {\n",
              "      border-color: transparent;\n",
              "      border-bottom-color: var(--fill-color);\n",
              "      border-left-color: var(--fill-color);\n",
              "    }\n",
              "    20% {\n",
              "      border-color: transparent;\n",
              "      border-left-color: var(--fill-color);\n",
              "      border-top-color: var(--fill-color);\n",
              "    }\n",
              "    30% {\n",
              "      border-color: transparent;\n",
              "      border-left-color: var(--fill-color);\n",
              "      border-top-color: var(--fill-color);\n",
              "      border-right-color: var(--fill-color);\n",
              "    }\n",
              "    40% {\n",
              "      border-color: transparent;\n",
              "      border-right-color: var(--fill-color);\n",
              "      border-top-color: var(--fill-color);\n",
              "    }\n",
              "    60% {\n",
              "      border-color: transparent;\n",
              "      border-right-color: var(--fill-color);\n",
              "    }\n",
              "    80% {\n",
              "      border-color: transparent;\n",
              "      border-right-color: var(--fill-color);\n",
              "      border-bottom-color: var(--fill-color);\n",
              "    }\n",
              "    90% {\n",
              "      border-color: transparent;\n",
              "      border-bottom-color: var(--fill-color);\n",
              "    }\n",
              "  }\n",
              "</style>\n",
              "\n",
              "      <script>\n",
              "        async function quickchart(key) {\n",
              "          const quickchartButtonEl =\n",
              "            document.querySelector('#' + key + ' button');\n",
              "          quickchartButtonEl.disabled = true;  // To prevent multiple clicks.\n",
              "          quickchartButtonEl.classList.add('colab-df-spinner');\n",
              "          try {\n",
              "            const charts = await google.colab.kernel.invokeFunction(\n",
              "                'suggestCharts', [key], {});\n",
              "          } catch (error) {\n",
              "            console.error('Error during call to suggestCharts:', error);\n",
              "          }\n",
              "          quickchartButtonEl.classList.remove('colab-df-spinner');\n",
              "          quickchartButtonEl.classList.add('colab-df-quickchart-complete');\n",
              "        }\n",
              "        (() => {\n",
              "          let quickchartButtonEl =\n",
              "            document.querySelector('#df-62659d47-9c3b-4331-ae3a-a9290f99ac4f button');\n",
              "          quickchartButtonEl.style.display =\n",
              "            google.colab.kernel.accessAllowed ? 'block' : 'none';\n",
              "        })();\n",
              "      </script>\n",
              "    </div>\n",
              "\n",
              "  <div id=\"id_8317e1d2-8327-4f20-bd6f-11b2680499dd\">\n",
              "    <style>\n",
              "      .colab-df-generate {\n",
              "        background-color: #E8F0FE;\n",
              "        border: none;\n",
              "        border-radius: 50%;\n",
              "        cursor: pointer;\n",
              "        display: none;\n",
              "        fill: #1967D2;\n",
              "        height: 32px;\n",
              "        padding: 0 0 0 0;\n",
              "        width: 32px;\n",
              "      }\n",
              "\n",
              "      .colab-df-generate:hover {\n",
              "        background-color: #E2EBFA;\n",
              "        box-shadow: 0px 1px 2px rgba(60, 64, 67, 0.3), 0px 1px 3px 1px rgba(60, 64, 67, 0.15);\n",
              "        fill: #174EA6;\n",
              "      }\n",
              "\n",
              "      [theme=dark] .colab-df-generate {\n",
              "        background-color: #3B4455;\n",
              "        fill: #D2E3FC;\n",
              "      }\n",
              "\n",
              "      [theme=dark] .colab-df-generate:hover {\n",
              "        background-color: #434B5C;\n",
              "        box-shadow: 0px 1px 3px 1px rgba(0, 0, 0, 0.15);\n",
              "        filter: drop-shadow(0px 1px 2px rgba(0, 0, 0, 0.3));\n",
              "        fill: #FFFFFF;\n",
              "      }\n",
              "    </style>\n",
              "    <button class=\"colab-df-generate\" onclick=\"generateWithVariable('df_zscored')\"\n",
              "            title=\"Generate code using this dataframe.\"\n",
              "            style=\"display:none;\">\n",
              "\n",
              "  <svg xmlns=\"http://www.w3.org/2000/svg\" height=\"24px\"viewBox=\"0 0 24 24\"\n",
              "       width=\"24px\">\n",
              "    <path d=\"M7,19H8.4L18.45,9,17,7.55,7,17.6ZM5,21V16.75L18.45,3.32a2,2,0,0,1,2.83,0l1.4,1.43a1.91,1.91,0,0,1,.58,1.4,1.91,1.91,0,0,1-.58,1.4L9.25,21ZM18.45,9,17,7.55Zm-12,3A5.31,5.31,0,0,0,4.9,8.1,5.31,5.31,0,0,0,1,6.5,5.31,5.31,0,0,0,4.9,4.9,5.31,5.31,0,0,0,6.5,1,5.31,5.31,0,0,0,8.1,4.9,5.31,5.31,0,0,0,12,6.5,5.46,5.46,0,0,0,6.5,12Z\"/>\n",
              "  </svg>\n",
              "    </button>\n",
              "    <script>\n",
              "      (() => {\n",
              "      const buttonEl =\n",
              "        document.querySelector('#id_8317e1d2-8327-4f20-bd6f-11b2680499dd button.colab-df-generate');\n",
              "      buttonEl.style.display =\n",
              "        google.colab.kernel.accessAllowed ? 'block' : 'none';\n",
              "\n",
              "      buttonEl.onclick = () => {\n",
              "        google.colab.notebook.generateWithVariable('df_zscored');\n",
              "      }\n",
              "      })();\n",
              "    </script>\n",
              "  </div>\n",
              "\n",
              "    </div>\n",
              "  </div>\n"
            ],
            "application/vnd.google.colaboratory.intrinsic+json": {
              "type": "dataframe",
              "variable_name": "df_zscored",
              "summary": "{\n  \"name\": \"df_zscored\",\n  \"rows\": 450,\n  \"fields\": [\n    {\n      \"column\": \"Volume\",\n      \"properties\": {\n        \"dtype\": \"number\",\n        \"std\": 1.0011129663990008,\n        \"min\": -0.9620924542616803,\n        \"max\": 6.135310896849077,\n        \"num_unique_values\": 22,\n        \"samples\": [\n          2.3500291095900065,\n          5.662150673441693,\n          0.9305484393678549\n        ],\n        \"semantic_type\": \"\",\n        \"description\": \"\"\n      }\n    },\n    {\n      \"column\": \"Avg Price\",\n      \"properties\": {\n        \"dtype\": \"number\",\n        \"std\": 1.001112966399,\n        \"min\": -0.5627654007700827,\n        \"max\": 2.7490090278244526,\n        \"num_unique_values\": 25,\n        \"samples\": [\n          2.7490090278244526,\n          -0.5478150731372367,\n          0.0911730042073702\n        ],\n        \"semantic_type\": \"\",\n        \"description\": \"\"\n      }\n    },\n    {\n      \"column\": \"Total Sales Value\",\n      \"properties\": {\n        \"dtype\": \"number\",\n        \"std\": 1.0011129663989997,\n        \"min\": -0.661916964930303,\n        \"max\": 3.220894025792938,\n        \"num_unique_values\": 135,\n        \"samples\": [\n          -0.6104102885227498,\n          1.1309115792556832,\n          -0.6254660862418807\n        ],\n        \"semantic_type\": \"\",\n        \"description\": \"\"\n      }\n    },\n    {\n      \"column\": \"Discount Rate (%)\",\n      \"properties\": {\n        \"dtype\": \"number\",\n        \"std\": 1.0011129663989993,\n        \"min\": -2.4069346207606808,\n        \"max\": 1.147359683039134,\n        \"num_unique_values\": 450,\n        \"samples\": [\n          0.9098983218050978,\n          -0.01951837096249788,\n          1.1436764475762629\n        ],\n        \"semantic_type\": \"\",\n        \"description\": \"\"\n      }\n    },\n    {\n      \"column\": \"Discount Amount\",\n      \"properties\": {\n        \"dtype\": \"number\",\n        \"std\": 1.0011129663990002,\n        \"min\": -0.7275032428419235,\n        \"max\": 4.970493592440854,\n        \"num_unique_values\": 450,\n        \"samples\": [\n          -0.7091337813362554,\n          -0.3214755162054573,\n          -0.6009558053583277\n        ],\n        \"semantic_type\": \"\",\n        \"description\": \"\"\n      }\n    },\n    {\n      \"column\": \"Net Sales Value\",\n      \"properties\": {\n        \"dtype\": \"number\",\n        \"std\": 1.0011129663989997,\n        \"min\": -0.6508580624292651,\n        \"max\": 3.2185363331781285,\n        \"num_unique_values\": 450,\n        \"samples\": [\n          -0.6439240341352248,\n          -0.4269456767035787,\n          -0.6026200127427878\n        ],\n        \"semantic_type\": \"\",\n        \"description\": \"\"\n      }\n    }\n  ]\n}"
            }
          },
          "metadata": {},
          "execution_count": 143
        }
      ]
    },
    {
      "cell_type": "markdown",
      "source": [
        "ONE-HOT ENCODING"
      ],
      "metadata": {
        "id": "sDlj4YfPEu8b"
      }
    },
    {
      "cell_type": "code",
      "source": [
        "df_encoded = pd.get_dummies(df, columns=['BU','Brand','Model'])"
      ],
      "metadata": {
        "id": "t7amWJbNGFJs"
      },
      "execution_count": 145,
      "outputs": []
    },
    {
      "cell_type": "code",
      "source": [
        "df_encoded"
      ],
      "metadata": {
        "colab": {
          "base_uri": "https://localhost:8080/",
          "height": 825
        },
        "id": "AjqkCIwjJJx6",
        "outputId": "387e1531-8058-4d0c-fd99-abef18577b7c"
      },
      "execution_count": 146,
      "outputs": [
        {
          "output_type": "execute_result",
          "data": {
            "text/plain": [
              "           Date       Day  SKU City  Volume  Avg Price  Total Sales Value  \\\n",
              "0    01-04-2021  Thursday  M01    C      15      12100             181500   \n",
              "1    01-04-2021  Thursday  M02    C      10      10100             101000   \n",
              "2    01-04-2021  Thursday  M03    C       7      16100             112700   \n",
              "3    01-04-2021  Thursday  M04    C       6      20100             120600   \n",
              "4    01-04-2021  Thursday  M05    C       3       8100              24300   \n",
              "..          ...       ...  ...  ...     ...        ...                ...   \n",
              "445  15-04-2021  Thursday  L06    C       2       1300               2600   \n",
              "446  15-04-2021  Thursday  L07    C       6       2600              15600   \n",
              "447  15-04-2021  Thursday  L08    C       2       1600               3200   \n",
              "448  15-04-2021  Thursday  L09    C       3       1900               5700   \n",
              "449  15-04-2021  Thursday  L10    C       1       3100               3100   \n",
              "\n",
              "     Discount Rate (%)  Discount Amount  Net Sales Value  ...  \\\n",
              "0            11.654820     21153.498820    160346.501180  ...   \n",
              "1            11.560498     11676.102961     89323.897039  ...   \n",
              "2             9.456886     10657.910157    102042.089843  ...   \n",
              "3             6.935385      8364.074702    112235.925298  ...   \n",
              "4            17.995663      4372.946230     19927.053770  ...   \n",
              "..                 ...              ...              ...  ...   \n",
              "445          15.475687       402.367873      2197.632127  ...   \n",
              "446          17.057027      2660.896242     12939.103758  ...   \n",
              "447          18.965550       606.897606      2593.102394  ...   \n",
              "448          16.793014       957.201826      4742.798174  ...   \n",
              "449          15.333300       475.332295      2624.667705  ...   \n",
              "\n",
              "     Model_Vedic Cream  Model_Vedic Oil  Model_Vedic Shampoo  Model_W-Casuals  \\\n",
              "0                False            False                False            False   \n",
              "1                False            False                False            False   \n",
              "2                False            False                False            False   \n",
              "3                False            False                False            False   \n",
              "4                False            False                False            False   \n",
              "..                 ...              ...                  ...              ...   \n",
              "445              False            False                False            False   \n",
              "446              False            False                False            False   \n",
              "447              False            False                False            False   \n",
              "448              False            False                False            False   \n",
              "449              False            False                False            False   \n",
              "\n",
              "     Model_W-Inners  Model_W-Lounge  Model_W-Western  Model_YM-98   \\\n",
              "0             False           False            False         False   \n",
              "1             False           False            False         False   \n",
              "2             False           False            False         False   \n",
              "3             False           False            False         False   \n",
              "4             False           False            False          True   \n",
              "..              ...             ...              ...           ...   \n",
              "445           False           False            False         False   \n",
              "446           False           False             True         False   \n",
              "447           False            True            False         False   \n",
              "448           False           False            False         False   \n",
              "449           False           False            False         False   \n",
              "\n",
              "     Model_YM-99  Model_YM-99 Plus  \n",
              "0          False             False  \n",
              "1          False             False  \n",
              "2           True             False  \n",
              "3          False              True  \n",
              "4          False             False  \n",
              "..           ...               ...  \n",
              "445        False             False  \n",
              "446        False             False  \n",
              "447        False             False  \n",
              "448        False             False  \n",
              "449        False             False  \n",
              "\n",
              "[450 rows x 52 columns]"
            ],
            "text/html": [
              "\n",
              "  <div id=\"df-8b105ebd-cb10-42fb-8d62-8b8a1db4e3bf\" class=\"colab-df-container\">\n",
              "    <div>\n",
              "<style scoped>\n",
              "    .dataframe tbody tr th:only-of-type {\n",
              "        vertical-align: middle;\n",
              "    }\n",
              "\n",
              "    .dataframe tbody tr th {\n",
              "        vertical-align: top;\n",
              "    }\n",
              "\n",
              "    .dataframe thead th {\n",
              "        text-align: right;\n",
              "    }\n",
              "</style>\n",
              "<table border=\"1\" class=\"dataframe\">\n",
              "  <thead>\n",
              "    <tr style=\"text-align: right;\">\n",
              "      <th></th>\n",
              "      <th>Date</th>\n",
              "      <th>Day</th>\n",
              "      <th>SKU</th>\n",
              "      <th>City</th>\n",
              "      <th>Volume</th>\n",
              "      <th>Avg Price</th>\n",
              "      <th>Total Sales Value</th>\n",
              "      <th>Discount Rate (%)</th>\n",
              "      <th>Discount Amount</th>\n",
              "      <th>Net Sales Value</th>\n",
              "      <th>...</th>\n",
              "      <th>Model_Vedic Cream</th>\n",
              "      <th>Model_Vedic Oil</th>\n",
              "      <th>Model_Vedic Shampoo</th>\n",
              "      <th>Model_W-Casuals</th>\n",
              "      <th>Model_W-Inners</th>\n",
              "      <th>Model_W-Lounge</th>\n",
              "      <th>Model_W-Western</th>\n",
              "      <th>Model_YM-98</th>\n",
              "      <th>Model_YM-99</th>\n",
              "      <th>Model_YM-99 Plus</th>\n",
              "    </tr>\n",
              "  </thead>\n",
              "  <tbody>\n",
              "    <tr>\n",
              "      <th>0</th>\n",
              "      <td>01-04-2021</td>\n",
              "      <td>Thursday</td>\n",
              "      <td>M01</td>\n",
              "      <td>C</td>\n",
              "      <td>15</td>\n",
              "      <td>12100</td>\n",
              "      <td>181500</td>\n",
              "      <td>11.654820</td>\n",
              "      <td>21153.498820</td>\n",
              "      <td>160346.501180</td>\n",
              "      <td>...</td>\n",
              "      <td>False</td>\n",
              "      <td>False</td>\n",
              "      <td>False</td>\n",
              "      <td>False</td>\n",
              "      <td>False</td>\n",
              "      <td>False</td>\n",
              "      <td>False</td>\n",
              "      <td>False</td>\n",
              "      <td>False</td>\n",
              "      <td>False</td>\n",
              "    </tr>\n",
              "    <tr>\n",
              "      <th>1</th>\n",
              "      <td>01-04-2021</td>\n",
              "      <td>Thursday</td>\n",
              "      <td>M02</td>\n",
              "      <td>C</td>\n",
              "      <td>10</td>\n",
              "      <td>10100</td>\n",
              "      <td>101000</td>\n",
              "      <td>11.560498</td>\n",
              "      <td>11676.102961</td>\n",
              "      <td>89323.897039</td>\n",
              "      <td>...</td>\n",
              "      <td>False</td>\n",
              "      <td>False</td>\n",
              "      <td>False</td>\n",
              "      <td>False</td>\n",
              "      <td>False</td>\n",
              "      <td>False</td>\n",
              "      <td>False</td>\n",
              "      <td>False</td>\n",
              "      <td>False</td>\n",
              "      <td>False</td>\n",
              "    </tr>\n",
              "    <tr>\n",
              "      <th>2</th>\n",
              "      <td>01-04-2021</td>\n",
              "      <td>Thursday</td>\n",
              "      <td>M03</td>\n",
              "      <td>C</td>\n",
              "      <td>7</td>\n",
              "      <td>16100</td>\n",
              "      <td>112700</td>\n",
              "      <td>9.456886</td>\n",
              "      <td>10657.910157</td>\n",
              "      <td>102042.089843</td>\n",
              "      <td>...</td>\n",
              "      <td>False</td>\n",
              "      <td>False</td>\n",
              "      <td>False</td>\n",
              "      <td>False</td>\n",
              "      <td>False</td>\n",
              "      <td>False</td>\n",
              "      <td>False</td>\n",
              "      <td>False</td>\n",
              "      <td>True</td>\n",
              "      <td>False</td>\n",
              "    </tr>\n",
              "    <tr>\n",
              "      <th>3</th>\n",
              "      <td>01-04-2021</td>\n",
              "      <td>Thursday</td>\n",
              "      <td>M04</td>\n",
              "      <td>C</td>\n",
              "      <td>6</td>\n",
              "      <td>20100</td>\n",
              "      <td>120600</td>\n",
              "      <td>6.935385</td>\n",
              "      <td>8364.074702</td>\n",
              "      <td>112235.925298</td>\n",
              "      <td>...</td>\n",
              "      <td>False</td>\n",
              "      <td>False</td>\n",
              "      <td>False</td>\n",
              "      <td>False</td>\n",
              "      <td>False</td>\n",
              "      <td>False</td>\n",
              "      <td>False</td>\n",
              "      <td>False</td>\n",
              "      <td>False</td>\n",
              "      <td>True</td>\n",
              "    </tr>\n",
              "    <tr>\n",
              "      <th>4</th>\n",
              "      <td>01-04-2021</td>\n",
              "      <td>Thursday</td>\n",
              "      <td>M05</td>\n",
              "      <td>C</td>\n",
              "      <td>3</td>\n",
              "      <td>8100</td>\n",
              "      <td>24300</td>\n",
              "      <td>17.995663</td>\n",
              "      <td>4372.946230</td>\n",
              "      <td>19927.053770</td>\n",
              "      <td>...</td>\n",
              "      <td>False</td>\n",
              "      <td>False</td>\n",
              "      <td>False</td>\n",
              "      <td>False</td>\n",
              "      <td>False</td>\n",
              "      <td>False</td>\n",
              "      <td>False</td>\n",
              "      <td>True</td>\n",
              "      <td>False</td>\n",
              "      <td>False</td>\n",
              "    </tr>\n",
              "    <tr>\n",
              "      <th>...</th>\n",
              "      <td>...</td>\n",
              "      <td>...</td>\n",
              "      <td>...</td>\n",
              "      <td>...</td>\n",
              "      <td>...</td>\n",
              "      <td>...</td>\n",
              "      <td>...</td>\n",
              "      <td>...</td>\n",
              "      <td>...</td>\n",
              "      <td>...</td>\n",
              "      <td>...</td>\n",
              "      <td>...</td>\n",
              "      <td>...</td>\n",
              "      <td>...</td>\n",
              "      <td>...</td>\n",
              "      <td>...</td>\n",
              "      <td>...</td>\n",
              "      <td>...</td>\n",
              "      <td>...</td>\n",
              "      <td>...</td>\n",
              "      <td>...</td>\n",
              "    </tr>\n",
              "    <tr>\n",
              "      <th>445</th>\n",
              "      <td>15-04-2021</td>\n",
              "      <td>Thursday</td>\n",
              "      <td>L06</td>\n",
              "      <td>C</td>\n",
              "      <td>2</td>\n",
              "      <td>1300</td>\n",
              "      <td>2600</td>\n",
              "      <td>15.475687</td>\n",
              "      <td>402.367873</td>\n",
              "      <td>2197.632127</td>\n",
              "      <td>...</td>\n",
              "      <td>False</td>\n",
              "      <td>False</td>\n",
              "      <td>False</td>\n",
              "      <td>False</td>\n",
              "      <td>False</td>\n",
              "      <td>False</td>\n",
              "      <td>False</td>\n",
              "      <td>False</td>\n",
              "      <td>False</td>\n",
              "      <td>False</td>\n",
              "    </tr>\n",
              "    <tr>\n",
              "      <th>446</th>\n",
              "      <td>15-04-2021</td>\n",
              "      <td>Thursday</td>\n",
              "      <td>L07</td>\n",
              "      <td>C</td>\n",
              "      <td>6</td>\n",
              "      <td>2600</td>\n",
              "      <td>15600</td>\n",
              "      <td>17.057027</td>\n",
              "      <td>2660.896242</td>\n",
              "      <td>12939.103758</td>\n",
              "      <td>...</td>\n",
              "      <td>False</td>\n",
              "      <td>False</td>\n",
              "      <td>False</td>\n",
              "      <td>False</td>\n",
              "      <td>False</td>\n",
              "      <td>False</td>\n",
              "      <td>True</td>\n",
              "      <td>False</td>\n",
              "      <td>False</td>\n",
              "      <td>False</td>\n",
              "    </tr>\n",
              "    <tr>\n",
              "      <th>447</th>\n",
              "      <td>15-04-2021</td>\n",
              "      <td>Thursday</td>\n",
              "      <td>L08</td>\n",
              "      <td>C</td>\n",
              "      <td>2</td>\n",
              "      <td>1600</td>\n",
              "      <td>3200</td>\n",
              "      <td>18.965550</td>\n",
              "      <td>606.897606</td>\n",
              "      <td>2593.102394</td>\n",
              "      <td>...</td>\n",
              "      <td>False</td>\n",
              "      <td>False</td>\n",
              "      <td>False</td>\n",
              "      <td>False</td>\n",
              "      <td>False</td>\n",
              "      <td>True</td>\n",
              "      <td>False</td>\n",
              "      <td>False</td>\n",
              "      <td>False</td>\n",
              "      <td>False</td>\n",
              "    </tr>\n",
              "    <tr>\n",
              "      <th>448</th>\n",
              "      <td>15-04-2021</td>\n",
              "      <td>Thursday</td>\n",
              "      <td>L09</td>\n",
              "      <td>C</td>\n",
              "      <td>3</td>\n",
              "      <td>1900</td>\n",
              "      <td>5700</td>\n",
              "      <td>16.793014</td>\n",
              "      <td>957.201826</td>\n",
              "      <td>4742.798174</td>\n",
              "      <td>...</td>\n",
              "      <td>False</td>\n",
              "      <td>False</td>\n",
              "      <td>False</td>\n",
              "      <td>False</td>\n",
              "      <td>False</td>\n",
              "      <td>False</td>\n",
              "      <td>False</td>\n",
              "      <td>False</td>\n",
              "      <td>False</td>\n",
              "      <td>False</td>\n",
              "    </tr>\n",
              "    <tr>\n",
              "      <th>449</th>\n",
              "      <td>15-04-2021</td>\n",
              "      <td>Thursday</td>\n",
              "      <td>L10</td>\n",
              "      <td>C</td>\n",
              "      <td>1</td>\n",
              "      <td>3100</td>\n",
              "      <td>3100</td>\n",
              "      <td>15.333300</td>\n",
              "      <td>475.332295</td>\n",
              "      <td>2624.667705</td>\n",
              "      <td>...</td>\n",
              "      <td>False</td>\n",
              "      <td>False</td>\n",
              "      <td>False</td>\n",
              "      <td>False</td>\n",
              "      <td>False</td>\n",
              "      <td>False</td>\n",
              "      <td>False</td>\n",
              "      <td>False</td>\n",
              "      <td>False</td>\n",
              "      <td>False</td>\n",
              "    </tr>\n",
              "  </tbody>\n",
              "</table>\n",
              "<p>450 rows × 52 columns</p>\n",
              "</div>\n",
              "    <div class=\"colab-df-buttons\">\n",
              "\n",
              "  <div class=\"colab-df-container\">\n",
              "    <button class=\"colab-df-convert\" onclick=\"convertToInteractive('df-8b105ebd-cb10-42fb-8d62-8b8a1db4e3bf')\"\n",
              "            title=\"Convert this dataframe to an interactive table.\"\n",
              "            style=\"display:none;\">\n",
              "\n",
              "  <svg xmlns=\"http://www.w3.org/2000/svg\" height=\"24px\" viewBox=\"0 -960 960 960\">\n",
              "    <path d=\"M120-120v-720h720v720H120Zm60-500h600v-160H180v160Zm220 220h160v-160H400v160Zm0 220h160v-160H400v160ZM180-400h160v-160H180v160Zm440 0h160v-160H620v160ZM180-180h160v-160H180v160Zm440 0h160v-160H620v160Z\"/>\n",
              "  </svg>\n",
              "    </button>\n",
              "\n",
              "  <style>\n",
              "    .colab-df-container {\n",
              "      display:flex;\n",
              "      gap: 12px;\n",
              "    }\n",
              "\n",
              "    .colab-df-convert {\n",
              "      background-color: #E8F0FE;\n",
              "      border: none;\n",
              "      border-radius: 50%;\n",
              "      cursor: pointer;\n",
              "      display: none;\n",
              "      fill: #1967D2;\n",
              "      height: 32px;\n",
              "      padding: 0 0 0 0;\n",
              "      width: 32px;\n",
              "    }\n",
              "\n",
              "    .colab-df-convert:hover {\n",
              "      background-color: #E2EBFA;\n",
              "      box-shadow: 0px 1px 2px rgba(60, 64, 67, 0.3), 0px 1px 3px 1px rgba(60, 64, 67, 0.15);\n",
              "      fill: #174EA6;\n",
              "    }\n",
              "\n",
              "    .colab-df-buttons div {\n",
              "      margin-bottom: 4px;\n",
              "    }\n",
              "\n",
              "    [theme=dark] .colab-df-convert {\n",
              "      background-color: #3B4455;\n",
              "      fill: #D2E3FC;\n",
              "    }\n",
              "\n",
              "    [theme=dark] .colab-df-convert:hover {\n",
              "      background-color: #434B5C;\n",
              "      box-shadow: 0px 1px 3px 1px rgba(0, 0, 0, 0.15);\n",
              "      filter: drop-shadow(0px 1px 2px rgba(0, 0, 0, 0.3));\n",
              "      fill: #FFFFFF;\n",
              "    }\n",
              "  </style>\n",
              "\n",
              "    <script>\n",
              "      const buttonEl =\n",
              "        document.querySelector('#df-8b105ebd-cb10-42fb-8d62-8b8a1db4e3bf button.colab-df-convert');\n",
              "      buttonEl.style.display =\n",
              "        google.colab.kernel.accessAllowed ? 'block' : 'none';\n",
              "\n",
              "      async function convertToInteractive(key) {\n",
              "        const element = document.querySelector('#df-8b105ebd-cb10-42fb-8d62-8b8a1db4e3bf');\n",
              "        const dataTable =\n",
              "          await google.colab.kernel.invokeFunction('convertToInteractive',\n",
              "                                                    [key], {});\n",
              "        if (!dataTable) return;\n",
              "\n",
              "        const docLinkHtml = 'Like what you see? Visit the ' +\n",
              "          '<a target=\"_blank\" href=https://colab.research.google.com/notebooks/data_table.ipynb>data table notebook</a>'\n",
              "          + ' to learn more about interactive tables.';\n",
              "        element.innerHTML = '';\n",
              "        dataTable['output_type'] = 'display_data';\n",
              "        await google.colab.output.renderOutput(dataTable, element);\n",
              "        const docLink = document.createElement('div');\n",
              "        docLink.innerHTML = docLinkHtml;\n",
              "        element.appendChild(docLink);\n",
              "      }\n",
              "    </script>\n",
              "  </div>\n",
              "\n",
              "\n",
              "    <div id=\"df-bf6d9081-0e32-4f04-8fcf-706e49808c02\">\n",
              "      <button class=\"colab-df-quickchart\" onclick=\"quickchart('df-bf6d9081-0e32-4f04-8fcf-706e49808c02')\"\n",
              "                title=\"Suggest charts\"\n",
              "                style=\"display:none;\">\n",
              "\n",
              "<svg xmlns=\"http://www.w3.org/2000/svg\" height=\"24px\"viewBox=\"0 0 24 24\"\n",
              "     width=\"24px\">\n",
              "    <g>\n",
              "        <path d=\"M19 3H5c-1.1 0-2 .9-2 2v14c0 1.1.9 2 2 2h14c1.1 0 2-.9 2-2V5c0-1.1-.9-2-2-2zM9 17H7v-7h2v7zm4 0h-2V7h2v10zm4 0h-2v-4h2v4z\"/>\n",
              "    </g>\n",
              "</svg>\n",
              "      </button>\n",
              "\n",
              "<style>\n",
              "  .colab-df-quickchart {\n",
              "      --bg-color: #E8F0FE;\n",
              "      --fill-color: #1967D2;\n",
              "      --hover-bg-color: #E2EBFA;\n",
              "      --hover-fill-color: #174EA6;\n",
              "      --disabled-fill-color: #AAA;\n",
              "      --disabled-bg-color: #DDD;\n",
              "  }\n",
              "\n",
              "  [theme=dark] .colab-df-quickchart {\n",
              "      --bg-color: #3B4455;\n",
              "      --fill-color: #D2E3FC;\n",
              "      --hover-bg-color: #434B5C;\n",
              "      --hover-fill-color: #FFFFFF;\n",
              "      --disabled-bg-color: #3B4455;\n",
              "      --disabled-fill-color: #666;\n",
              "  }\n",
              "\n",
              "  .colab-df-quickchart {\n",
              "    background-color: var(--bg-color);\n",
              "    border: none;\n",
              "    border-radius: 50%;\n",
              "    cursor: pointer;\n",
              "    display: none;\n",
              "    fill: var(--fill-color);\n",
              "    height: 32px;\n",
              "    padding: 0;\n",
              "    width: 32px;\n",
              "  }\n",
              "\n",
              "  .colab-df-quickchart:hover {\n",
              "    background-color: var(--hover-bg-color);\n",
              "    box-shadow: 0 1px 2px rgba(60, 64, 67, 0.3), 0 1px 3px 1px rgba(60, 64, 67, 0.15);\n",
              "    fill: var(--button-hover-fill-color);\n",
              "  }\n",
              "\n",
              "  .colab-df-quickchart-complete:disabled,\n",
              "  .colab-df-quickchart-complete:disabled:hover {\n",
              "    background-color: var(--disabled-bg-color);\n",
              "    fill: var(--disabled-fill-color);\n",
              "    box-shadow: none;\n",
              "  }\n",
              "\n",
              "  .colab-df-spinner {\n",
              "    border: 2px solid var(--fill-color);\n",
              "    border-color: transparent;\n",
              "    border-bottom-color: var(--fill-color);\n",
              "    animation:\n",
              "      spin 1s steps(1) infinite;\n",
              "  }\n",
              "\n",
              "  @keyframes spin {\n",
              "    0% {\n",
              "      border-color: transparent;\n",
              "      border-bottom-color: var(--fill-color);\n",
              "      border-left-color: var(--fill-color);\n",
              "    }\n",
              "    20% {\n",
              "      border-color: transparent;\n",
              "      border-left-color: var(--fill-color);\n",
              "      border-top-color: var(--fill-color);\n",
              "    }\n",
              "    30% {\n",
              "      border-color: transparent;\n",
              "      border-left-color: var(--fill-color);\n",
              "      border-top-color: var(--fill-color);\n",
              "      border-right-color: var(--fill-color);\n",
              "    }\n",
              "    40% {\n",
              "      border-color: transparent;\n",
              "      border-right-color: var(--fill-color);\n",
              "      border-top-color: var(--fill-color);\n",
              "    }\n",
              "    60% {\n",
              "      border-color: transparent;\n",
              "      border-right-color: var(--fill-color);\n",
              "    }\n",
              "    80% {\n",
              "      border-color: transparent;\n",
              "      border-right-color: var(--fill-color);\n",
              "      border-bottom-color: var(--fill-color);\n",
              "    }\n",
              "    90% {\n",
              "      border-color: transparent;\n",
              "      border-bottom-color: var(--fill-color);\n",
              "    }\n",
              "  }\n",
              "</style>\n",
              "\n",
              "      <script>\n",
              "        async function quickchart(key) {\n",
              "          const quickchartButtonEl =\n",
              "            document.querySelector('#' + key + ' button');\n",
              "          quickchartButtonEl.disabled = true;  // To prevent multiple clicks.\n",
              "          quickchartButtonEl.classList.add('colab-df-spinner');\n",
              "          try {\n",
              "            const charts = await google.colab.kernel.invokeFunction(\n",
              "                'suggestCharts', [key], {});\n",
              "          } catch (error) {\n",
              "            console.error('Error during call to suggestCharts:', error);\n",
              "          }\n",
              "          quickchartButtonEl.classList.remove('colab-df-spinner');\n",
              "          quickchartButtonEl.classList.add('colab-df-quickchart-complete');\n",
              "        }\n",
              "        (() => {\n",
              "          let quickchartButtonEl =\n",
              "            document.querySelector('#df-bf6d9081-0e32-4f04-8fcf-706e49808c02 button');\n",
              "          quickchartButtonEl.style.display =\n",
              "            google.colab.kernel.accessAllowed ? 'block' : 'none';\n",
              "        })();\n",
              "      </script>\n",
              "    </div>\n",
              "\n",
              "  <div id=\"id_16a3844d-9c05-4663-82e4-f5f9644146fc\">\n",
              "    <style>\n",
              "      .colab-df-generate {\n",
              "        background-color: #E8F0FE;\n",
              "        border: none;\n",
              "        border-radius: 50%;\n",
              "        cursor: pointer;\n",
              "        display: none;\n",
              "        fill: #1967D2;\n",
              "        height: 32px;\n",
              "        padding: 0 0 0 0;\n",
              "        width: 32px;\n",
              "      }\n",
              "\n",
              "      .colab-df-generate:hover {\n",
              "        background-color: #E2EBFA;\n",
              "        box-shadow: 0px 1px 2px rgba(60, 64, 67, 0.3), 0px 1px 3px 1px rgba(60, 64, 67, 0.15);\n",
              "        fill: #174EA6;\n",
              "      }\n",
              "\n",
              "      [theme=dark] .colab-df-generate {\n",
              "        background-color: #3B4455;\n",
              "        fill: #D2E3FC;\n",
              "      }\n",
              "\n",
              "      [theme=dark] .colab-df-generate:hover {\n",
              "        background-color: #434B5C;\n",
              "        box-shadow: 0px 1px 3px 1px rgba(0, 0, 0, 0.15);\n",
              "        filter: drop-shadow(0px 1px 2px rgba(0, 0, 0, 0.3));\n",
              "        fill: #FFFFFF;\n",
              "      }\n",
              "    </style>\n",
              "    <button class=\"colab-df-generate\" onclick=\"generateWithVariable('df_encoded')\"\n",
              "            title=\"Generate code using this dataframe.\"\n",
              "            style=\"display:none;\">\n",
              "\n",
              "  <svg xmlns=\"http://www.w3.org/2000/svg\" height=\"24px\"viewBox=\"0 0 24 24\"\n",
              "       width=\"24px\">\n",
              "    <path d=\"M7,19H8.4L18.45,9,17,7.55,7,17.6ZM5,21V16.75L18.45,3.32a2,2,0,0,1,2.83,0l1.4,1.43a1.91,1.91,0,0,1,.58,1.4,1.91,1.91,0,0,1-.58,1.4L9.25,21ZM18.45,9,17,7.55Zm-12,3A5.31,5.31,0,0,0,4.9,8.1,5.31,5.31,0,0,0,1,6.5,5.31,5.31,0,0,0,4.9,4.9,5.31,5.31,0,0,0,6.5,1,5.31,5.31,0,0,0,8.1,4.9,5.31,5.31,0,0,0,12,6.5,5.46,5.46,0,0,0,6.5,12Z\"/>\n",
              "  </svg>\n",
              "    </button>\n",
              "    <script>\n",
              "      (() => {\n",
              "      const buttonEl =\n",
              "        document.querySelector('#id_16a3844d-9c05-4663-82e4-f5f9644146fc button.colab-df-generate');\n",
              "      buttonEl.style.display =\n",
              "        google.colab.kernel.accessAllowed ? 'block' : 'none';\n",
              "\n",
              "      buttonEl.onclick = () => {\n",
              "        google.colab.notebook.generateWithVariable('df_encoded');\n",
              "      }\n",
              "      })();\n",
              "    </script>\n",
              "  </div>\n",
              "\n",
              "    </div>\n",
              "  </div>\n"
            ],
            "application/vnd.google.colaboratory.intrinsic+json": {
              "type": "dataframe",
              "variable_name": "df_encoded"
            }
          },
          "metadata": {},
          "execution_count": 146
        }
      ]
    },
    {
      "cell_type": "code",
      "source": [
        "sum(df['Net Sales Value'])"
      ],
      "metadata": {
        "colab": {
          "base_uri": "https://localhost:8080/"
        },
        "id": "zpFwOMRKNDTW",
        "outputId": "c2a010d1-7ff7-46bc-ab59-cd2dce5ca3ed"
      },
      "execution_count": 147,
      "outputs": [
        {
          "output_type": "execute_result",
          "data": {
            "text/plain": [
              "13709851.25907156"
            ]
          },
          "metadata": {},
          "execution_count": 147
        }
      ]
    },
    {
      "cell_type": "code",
      "source": [
        "#it appears that the product which is most sold is FMCG and least sold is mobiles.\n",
        "#The brand which has high demand is Babaji among the customers.\n",
        "#The net turnover of the sales per week is 13709851.25907156 Rs (assuming Indian Company)"
      ],
      "metadata": {
        "id": "M9pdfF9cJLRz"
      },
      "execution_count": 148,
      "outputs": []
    }
  ]
}