{
  "cells": [
    {
      "cell_type": "code",
      "execution_count": null,
      "id": "f376903f-9d25-4fbb-9d17-2166fbca93ac",
      "metadata": {
        "id": "f376903f-9d25-4fbb-9d17-2166fbca93ac"
      },
      "outputs": [],
      "source": [
        "#1.Hypothesis\n",
        "#Null Hypothesis(H0):There is NO association between device type and customer satisfaction level\n",
        "#Alternative Hypothesis(H1):There is association between device type and customer satisfaction level"
      ]
    },
    {
      "cell_type": "code",
      "execution_count": null,
      "id": "e77b6a6d-25dd-41ba-a3c1-21099dd7c9da",
      "metadata": {
        "id": "e77b6a6d-25dd-41ba-a3c1-21099dd7c9da",
        "outputId": "f43d12c8-5bf0-439a-de99-9225182a885f",
        "colab": {
          "base_uri": "https://localhost:8080/"
        }
      },
      "outputs": [
        {
          "output_type": "stream",
          "name": "stdout",
          "text": [
            "Chi-Square Statistic: 5.638227513227513\n",
            "P-value: 0.22784371130697179\n",
            "Degrees of Freedom: 4\n",
            "\n",
            "Expected Frequencies Table:\n",
            " [[ 48.  72.]\n",
            " [ 72. 108.]\n",
            " [ 60.  90.]\n",
            " [ 32.  48.]\n",
            " [ 28.  42.]]\n"
          ]
        }
      ],
      "source": [
        "#2.Chi Square Statistics\n",
        "import numpy as np\n",
        "from scipy.stats import chi2_contingency\n",
        "observed_data=np.array([[50,70],#Very satisfied\n",
        "[80,100],#Satisfied\n",
        "[60,90],#Neutral\n",
        "[30,50],#Unsatisfied\n",
        "[20,50]#very unsatisfied\n",
        "])\n",
        "chi2_stat,pvalue,dof,expected=chi2_contingency(observed_data)\n",
        "print(\"Chi-Square Statistic:\",chi2_stat)\n",
        "print(\"P-value:\",pvalue)\n",
        "print(\"Degrees of Freedom:\",dof)\n",
        "print(\"\\nExpected Frequencies Table:\\n\",expected)"
      ]
    },
    {
      "cell_type": "code",
      "execution_count": null,
      "id": "8210fbc6-da19-4a20-a4ec-2d3aeb9c6c22",
      "metadata": {
        "id": "8210fbc6-da19-4a20-a4ec-2d3aeb9c6c22",
        "outputId": "20dea364-61e6-46fb-b5da-df281a2f21ad",
        "colab": {
          "base_uri": "https://localhost:8080/"
        }
      },
      "outputs": [
        {
          "output_type": "execute_result",
          "data": {
            "text/plain": [
              "np.float64(9.487729036781154)"
            ]
          },
          "metadata": {},
          "execution_count": 3
        }
      ],
      "source": [
        "#3.Determine the Critical Value\n",
        "from scipy.stats import chi2\n",
        "alpha=0.05\n",
        "critical_value=chi2.ppf(1-alpha,dof)\n",
        "critical_value"
      ]
    },
    {
      "cell_type": "code",
      "execution_count": null,
      "id": "d82b7248-51ae-477c-b967-9724b892cd1b",
      "metadata": {
        "id": "d82b7248-51ae-477c-b967-9724b892cd1b",
        "outputId": "60e797e0-4042-4aa5-a247-cbef8aec8793",
        "colab": {
          "base_uri": "https://localhost:8080/"
        }
      },
      "outputs": [
        {
          "output_type": "stream",
          "name": "stdout",
          "text": [
            "\n",
            "Fail to reejct Null Hypothesis:There is NO association between device type and customer satisfaction level\n"
          ]
        }
      ],
      "source": [
        "#4.Make a Decision\n",
        "if chi2_stat>critical_value:\n",
        "    print('\\nReject Null Hypothesis:There is association between device type and customer satisfaction level')\n",
        "else:\n",
        "    print('\\nFail to reejct Null Hypothesis:There is NO association between device type and customer satisfaction level')"
      ]
    },
    {
      "cell_type": "code",
      "execution_count": null,
      "id": "1dde79cd-745c-496b-b242-6734ef7d49bd",
      "metadata": {
        "id": "1dde79cd-745c-496b-b242-6734ef7d49bd"
      },
      "outputs": [],
      "source": []
    }
  ],
  "metadata": {
    "kernelspec": {
      "display_name": "Python 3 (ipykernel)",
      "language": "python",
      "name": "python3"
    },
    "language_info": {
      "codemirror_mode": {
        "name": "ipython",
        "version": 3
      },
      "file_extension": ".py",
      "mimetype": "text/x-python",
      "name": "python",
      "nbconvert_exporter": "python",
      "pygments_lexer": "ipython3",
      "version": "3.12.7"
    },
    "colab": {
      "provenance": []
    }
  },
  "nbformat": 4,
  "nbformat_minor": 5
}